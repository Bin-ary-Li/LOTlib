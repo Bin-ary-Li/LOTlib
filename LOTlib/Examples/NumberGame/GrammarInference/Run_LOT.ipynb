{
 "worksheets": [
  {
   "cells": [
    {
     "cell_type": "heading",
     "metadata": {},
     "level": 3,
     "source": [
      "Sample NumberGameHypotheses, then use these as $\\mathcal{H}$ in sampling GrammarHypotheses"
     ]
    },
    {
     "cell_type": "code",
     "metadata": {},
     "outputs": [],
     "input": [
      "%%bash --bg\n",
      "# LOT grammar, josh data,  alpha 0.9, domain 100\n",
      "# sample 100k ngh via mcmc, collect top 1000 per chain, run 10 chains per data point, mcmc+mpi\n",
      "mpiexec -n 16 python MakeNGHs.py -f out/ngh_lot100k.p -do 100 -a 0.9 -g lot_grammar -d josh_data -i 100000 -c 10 -n 1000 -mcmc -mpi\n",
      "\n",
      "# sample 100k gh via mcmc, skip 100 cap 1000, pickle\n",
      "python Run.py -q -p -csv out/gh_100k.p -ngh out/ngh_100k.p -g lot_grammar -d josh_data -i 100000 -sk 100 -cap 1000\n",
      "\n",
      "# Generate .eps figure files for correlation plots (mix, indep, lot) & violin plots (indep, lot)\n",
      "Rscript CSVtoFigures.R lot out/gh_lot100k"
     ],
     "language": "python"
    },
    {
     "cell_type": "code",
     "metadata": {},
     "outputs": [],
     "input": [
      "from IPython.display import Image\n",
      "\n",
      "fname = 'gh_lot100k'\n",
      "\n",
      "lot_h0 = Image(filename='out/'+fname+'_correl_h0.eps')\n",
      "lot_MAP = Image(filename='out/'+fname+'_correl_MAP.eps')\n",
      "lot_values = Image(filename='out/'+fname+'_values.eps')"
     ],
     "language": "python"
    },
    {
     "cell_type": "code",
     "metadata": {},
     "outputs": [],
     "input": [
      "display(lot_h0)"
     ],
     "language": "python"
    },
    {
     "cell_type": "code",
     "metadata": {},
     "outputs": [],
     "input": [
      "display(lot_MAP)"
     ],
     "language": "python"
    },
    {
     "cell_type": "code",
     "metadata": {},
     "outputs": [],
     "input": [
      "display(lot_values)"
     ],
     "language": "python"
    },
    {
     "cell_type": "heading",
     "metadata": {},
     "level": 3,
     "source": [
      "Import generated summary file"
     ]
    },
    {
     "cell_type": "code",
     "metadata": {},
     "outputs": [],
     "input": [
      "import pickle\n",
      "with open(\"out/gh_100k.p\") as f:\n",
      "    gh_summary = pickle.load(f)"
     ],
     "language": "python"
    },
    {
     "cell_type": "code",
     "metadata": {},
     "outputs": [],
     "input": [
      "mh_grammar_summary.plot('violin')"
     ],
     "language": "python"
    }
   ]
  }
 ],
 "cells": [],
 "metadata": {
  "name": "",
  "signature": "sha256:bf659228afcb62ceeec42ed05de5ea1524833d2d0d947a486d3a16b8072be4fd"
 },
 "nbformat": 3,
 "nbformat_minor": 0
}