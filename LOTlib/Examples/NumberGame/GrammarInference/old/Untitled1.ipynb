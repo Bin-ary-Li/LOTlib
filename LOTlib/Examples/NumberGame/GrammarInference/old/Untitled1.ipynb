{
 "metadata": {
  "name": "",
  "signature": "sha256:276202555da261109f4cd8be240d376a6d663ad302044542a4da30e139420042"
 },
 "nbformat": 3,
 "nbformat_minor": 0,
 "worksheets": [
  {
   "cells": [
    {
     "cell_type": "code",
     "collapsed": false,
     "input": [
      "%pylab qt\n",
      "from LOTlib.Hypotheses.GrammarHypothesis import GrammarHypothesis\n",
      "from LOTlib.Inference.MetropolisHastings import MHSampler\n",
      "from LOTlib.Inference.PriorSample import prior_sample\n",
      "from LOTlib.Examples.NumberGame.NewVersion.Model import *\n",
      "from Model import *\n",
      "from LOTlib.Visualization.SampleCollector import *\n",
      "from matplotlib.widgets import Slider"
     ],
     "language": "python",
     "metadata": {},
     "outputs": [
      {
       "output_type": "stream",
       "stream": "stdout",
       "text": [
        "Populating the interactive namespace from numpy and matplotlib\n"
       ]
      }
     ],
     "prompt_number": 1
    },
    {
     "cell_type": "code",
     "collapsed": false,
     "input": [
      "# Parameters for number game inference\n",
      "alpha = 0.99\n",
      "n = 1000\n",
      "domain = 20\n",
      "\n",
      "# Parameters for GrammarHypothesis inference\n",
      "grammar_n = 100000\n",
      "data = toy_2n\n",
      "\n",
      "# Variables for NumberGameHypothesis inference\n",
      "h0 = make_h0(grammar=simple_test_grammar, domain=domain, alpha=alpha)\n",
      "mh_sampler = MHSampler(h0, data[0].input, n)"
     ],
     "language": "python",
     "metadata": {},
     "outputs": [],
     "prompt_number": 11
    },
    {
     "cell_type": "code",
     "collapsed": false,
     "input": [
      "'''Generate number game hypotheses'''\n",
      "hypotheses = set()\n",
      "for h in lot_iter(mh_sampler):\n",
      "    hypotheses.add(h)\n",
      "\n",
      "for h in hypotheses:\n",
      "    print h, h(), h.domain, h.alpha"
     ],
     "language": "python",
     "metadata": {},
     "outputs": [
      {
       "output_type": "stream",
       "stream": "stdout",
       "text": [
        "lambda : mapset_(lambda y1: times_(y1, 3), range_set_(1, 20, bound=20)) [3, 6, 9, 12, 15, 18] 20 0.99\n",
        "lambda : mapset_(lambda y1: times_(y1, 1), range_set_(1, 20, bound=20)) [1, 2, 3, 4, 5, 6, 7, 8, 9, 10, 11, 12, 13, 14, 15, 16, 17, 18, 19, 20] 20 0.99\n",
        "lambda : mapset_(lambda y1: times_(y1, 2), range_set_(1, 20, bound=20)) [2, 4, 6, 8, 10, 12, 14, 16, 18, 20] 20 0.99\n",
        "lambda : mapset_(lambda y1: times_(y1, 7), range_set_(1, 20, bound=20)) [7, 14] 20 0.99\n"
       ]
      }
     ],
     "prompt_number": 3
    },
    {
     "cell_type": "code",
     "collapsed": false,
     "input": [
      "'''What grammar probabilities will best model our human data?'''\n",
      "grammar_h0 = GrammarHypothesis(simple_test_grammar, hypotheses, proposal_step=.1, proposal_n=1)\n",
      "\n",
      "for r in grammar_h0.rules:\n",
      "    print r"
     ],
     "language": "python",
     "metadata": {},
     "outputs": [
      {
       "output_type": "stream",
       "stream": "stdout",
       "text": [
        "SET -> mapset_['FUNC', 'RANGE'] w/ p=1.0, resample_p=1.0\n",
        "EXPR -> times_['X', '1'] w/ p=1.0, resample_p=1.0\n",
        "EXPR -> times_['X', '2'] w/ p=1.0, resample_p=1.0\n",
        "EXPR -> times_['X', '3'] w/ p=1.0, resample_p=1.0\n",
        "EXPR -> times_['X', '7'] w/ p=1.0, resample_p=1.0\n",
        "START -> ['SET'] w/ p=1.0, resample_p=1.0\n",
        "RANGE -> range_set_['1', '20', 'bound=20'] w/ p=1.0, resample_p=1.0\n",
        "FUNC -> lambda['EXPR'] w/ p=1.0, resample_p=1.0BV:X;None;y\n"
       ]
      }
     ],
     "prompt_number": 4
    },
    {
     "cell_type": "code",
     "collapsed": false,
     "input": [
      "'''GrammarHypothesis inference'''\n",
      "mh_grammar_sampler = MHSampler(grammar_h0, data, grammar_n, trace=False)\n",
      "\n",
      "grammar_hypotheses = []\n",
      "i = 0\n",
      "samplec = VectorSampleCollector(rate=100)\n",
      "for grammar_h in lot_iter(mh_grammar_sampler):\n",
      "    i += 1\n",
      "    samplec.add_sample(grammar_h)\n",
      "    grammar_hypotheses.append(grammar_h)\n",
      "    if i % (mh_grammar_sampler.steps/20) == 0:\n",
      "        print ['%.3f' % v for v in grammar_h.value]\n",
      "        print i, '='*70\n",
      "        print grammar_h.prior, grammar_h.likelihood, grammar_h.posterior_score\n",
      "        \n"
     ],
     "language": "python",
     "metadata": {},
     "outputs": [
      {
       "output_type": "stream",
       "stream": "stdout",
       "text": [
        "['1.000', '0.089', '1.889', '2.402', '0.528', '1.000', '1.000', '1.000']\n",
        "5000 ======================================================================\n",
        "-10.4513716809 -2.22753167366 -12.6789033545\n",
        "['1.000', '0.103', '3.245', '3.494', '2.012', '1.000', '1.000', '1.000']"
       ]
      },
      {
       "output_type": "stream",
       "stream": "stdout",
       "text": [
        "\n",
        "10000 ======================================================================\n",
        "-11.99782844 -1.73650323442 -13.7343316744\n",
        "['1.000', '0.134', '2.638', '0.508', '1.874', '1.000', '1.000', '1.000']"
       ]
      },
      {
       "output_type": "stream",
       "stream": "stdout",
       "text": [
        "\n",
        "15000 ======================================================================\n",
        "-10.2445023839 -2.12239339782 -12.3668957817\n",
        "['1.000', '0.702', '7.586', '2.967', '0.745', '1.000', '1.000', '1.000']"
       ]
      },
      {
       "output_type": "stream",
       "stream": "stdout",
       "text": [
        "\n",
        "20000 ======================================================================\n",
        "-13.5337644044 -3.43908043623 -16.9728448406\n",
        "['1.000', '0.536', '4.773', '0.239', '2.101', '1.000', '1.000', '1.000']"
       ]
      },
      {
       "output_type": "stream",
       "stream": "stdout",
       "text": [
        "\n",
        "25000 ======================================================================\n",
        "-11.3987401957 -4.11077792023 -15.509518116\n",
        "['1.000', '0.161', '6.612', '1.214', '3.571', '1.000', '1.000', '1.000']"
       ]
      },
      {
       "output_type": "stream",
       "stream": "stdout",
       "text": [
        "\n",
        "30000 ======================================================================\n",
        "-14.0312195169 -1.1287539928 -15.1599735097\n",
        "['1.000', '0.394', '4.991', '1.236', '1.364', '1.000', '1.000', '1.000']"
       ]
      },
      {
       "output_type": "stream",
       "stream": "stdout",
       "text": [
        "\n",
        "35000 ======================================================================\n",
        "-10.7866628554 -2.97620000944 -13.7628628648\n",
        "['1.000', '0.144', '2.527', '2.445', '0.717', '1.000', '1.000', '1.000']"
       ]
      },
      {
       "output_type": "stream",
       "stream": "stdout",
       "text": [
        "\n",
        "40000 ======================================================================\n",
        "-10.2822392535 -2.46353128171 -12.7457705352\n",
        "['1.000', '0.099', '2.161', '0.420', '2.002', '1.000', '1.000', '1.000']"
       ]
      },
      {
       "output_type": "stream",
       "stream": "stdout",
       "text": [
        "\n",
        "45000 ======================================================================\n",
        "-10.3979905862 -2.02516895885 -12.4231595451\n",
        "['1.000', '0.729', '5.269', '1.242', '1.656', '1.000', '1.000', '1.000']"
       ]
      },
      {
       "output_type": "stream",
       "stream": "stdout",
       "text": [
        "\n",
        "50000 ======================================================================\n",
        "-10.8288098831 -5.01848675208 -15.8472966352\n",
        "['1.000', '0.345', '6.821', '2.694', '0.355', '1.000', '1.000', '1.000']"
       ]
      },
      {
       "output_type": "stream",
       "stream": "stdout",
       "text": [
        "\n",
        "55000 ======================================================================\n",
        "-13.4031712771 -1.96454930391 -15.367720581\n",
        "['1.000', '0.547', '6.062', '3.255', '5.162', '1.000', '1.000', '1.000']"
       ]
      },
      {
       "output_type": "stream",
       "stream": "stdout",
       "text": [
        "\n",
        "60000 ======================================================================\n",
        "-15.005425877 -3.6535389323 -18.6589648093\n",
        "['1.000', '0.104', '4.094', '1.142', '0.849', '1.000', '1.000', '1.000']"
       ]
      },
      {
       "output_type": "stream",
       "stream": "stdout",
       "text": [
        "\n",
        "65000 ======================================================================\n",
        "-11.0706855056 -1.08807262822 -12.1587581338\n",
        "['1.000', '0.188', '5.708', '1.191', '0.473', '1.000', '1.000', '1.000']"
       ]
      },
      {
       "output_type": "stream",
       "stream": "stdout",
       "text": [
        "\n",
        "70000 ======================================================================\n",
        "-12.065401575 -1.28148715986 -13.3468887348\n",
        "['1.000', '0.217', '3.539', '0.981', '0.386', '1.000', '1.000', '1.000']"
       ]
      },
      {
       "output_type": "stream",
       "stream": "stdout",
       "text": [
        "\n",
        "75000 ======================================================================\n",
        "-10.3584797725 -2.31877881788 -12.6772585904\n",
        "['1.000', '0.204', '2.694', '0.966', '3.281', '1.000', '1.000', '1.000']"
       ]
      },
      {
       "output_type": "stream",
       "stream": "stdout",
       "text": [
        "\n",
        "80000 ======================================================================\n",
        "-10.5909782 -3.21458068385 -13.8055588839\n",
        "['1.000', '0.278', '10.356', '0.272', '3.162', '1.000', '1.000', '1.000']"
       ]
      },
      {
       "output_type": "stream",
       "stream": "stdout",
       "text": [
        "\n",
        "85000 ======================================================================\n",
        "-17.1630917661 -1.08119125601 -18.2442830221\n",
        "['1.000', '0.546', '10.520', '1.413', '0.745', '1.000', '1.000', '1.000']"
       ]
      },
      {
       "output_type": "stream",
       "stream": "stdout",
       "text": [
        "\n",
        "90000 ======================================================================\n",
        "-15.4244520777 -1.92503549725 -17.349487575\n",
        "['1.000', '0.197', '10.628', '1.849', '3.138', '1.000', '1.000', '1.000']"
       ]
      },
      {
       "output_type": "stream",
       "stream": "stdout",
       "text": [
        "\n",
        "95000 ======================================================================\n",
        "-17.3167648492 -0.832807234747 -18.149572084\n",
        "['1.000', '0.414', '4.060', '1.084', '3.585', '1.000', '1.000', '1.000']"
       ]
      },
      {
       "output_type": "stream",
       "stream": "stdout",
       "text": [
        "\n",
        "100000 ======================================================================\n",
        "-11.2664459216 -3.97324194367 -15.2396878652\n"
       ]
      }
     ],
     "prompt_number": 13
    },
    {
     "cell_type": "code",
     "collapsed": false,
     "input": [
      "# Numpy array of sampled values for each vector element altered in proposals\n",
      "vector_data = zip(*[[s.value[i] for i in s.propose_idxs] for s in samplec.samples])\n",
      "vector_data = [np.array(l) for l in vector_data]\n",
      "\n",
      "# Set up initial violinplot\n",
      "fig, ax = plt.subplots()\n",
      "fig.subplots_adjust(bottom=0.2, left=0.1)\n",
      "ax.set_title('Distribution of values over GrammarRules generated by MH')\n",
      "violin_results = ax.violinplot(vector_data, points=100, vert=False, widths=0.7,\n",
      "                               showmeans=True, showextrema=True, showmedians=True)\n",
      "max_interval = ax.xaxis.get_view_interval()\n",
      "\n",
      "def update_violinplot(value):\n",
      "    \"\"\"Update the violinplot when you move the slider\"\"\"\n",
      "    ax.clear()\n",
      "    data = [vector[0:value] for vector in vector_data]\n",
      "    ax.violinplot(data, points=100, vert=False, widths=0.7,\n",
      "                  showmeans=True, showextrema=True, showmedians=True)\n",
      "    ax.xaxis.set_view_interval(max_interval)\n",
      "    fig.canvas.draw_idle()\n",
      "\n",
      "# Add slider to plot; slider updates violinplot as a function of how many samples have been generated\n",
      "slider_ax = plt.axes([0.1, 0.1, 0.8, 0.02])    \n",
      "slider = Slider(slider_ax, \"after N samples\", valmin=1., valmax=samplec.sample_count, valinit=1.)\n",
      "slider.on_changed(update_violinplot)"
     ],
     "language": "python",
     "metadata": {},
     "outputs": [
      {
       "metadata": {},
       "output_type": "pyout",
       "prompt_number": 25,
       "text": [
        "0"
       ]
      }
     ],
     "prompt_number": 25
    },
    {
     "cell_type": "markdown",
     "metadata": {},
     "source": [
      "scrap\n",
      "-----"
     ]
    },
    {
     "cell_type": "code",
     "collapsed": false,
     "input": [
      "from SimpleDemo2 import *\n",
      "run()"
     ],
     "language": "python",
     "metadata": {},
     "outputs": [
      {
       "output_type": "stream",
       "stream": "stdout",
       "text": [
        "%%%%%%%%%%%%%%%%%%%%%%%%%%%%%%%%%%%%%%%%%%%%%%%%%%%%%%%%%%%%%%%%%%%%%%%%%%%%%%%%%%%%%%%%%%%%%%%%%%%% \n",
        "NumberGameHypotheses:\n",
        "lambda : mapset_(lambda y1: times_(y1, 1), range_set_(1, 20, bound=20)) [1, 2, 3, 4, 5, 6, 7, 8, 9, 10, 11, 12, 13, 14, 15, 16, 17, 18, 19, 20] 20 0.99\n",
        "lambda : mapset_(lambda y1: times_(y1, 2), range_set_(1, 20, bound=20)) [2, 4, 6, 8, 10, 12, 14, 16, 18, 20] 20 0.99\n",
        "lambda : mapset_(lambda y1: times_(y1, 3), range_set_(1, 20, bound=20)) [3, 6, 9, 12, 15, 18] 20 0.99\n",
        "lambda : mapset_(lambda y1: times_(y1, 4), range_set_(1, 20, bound=20)) [4, 8, 12, 16, 20] 20 0.99\n",
        "lambda : mapset_(lambda y1: times_(y1, 5), range_set_(1, 20, bound=20)) [5, 10, 15, 20] 20 0.99\n",
        "lambda : mapset_(lambda y1: ipowf_(y1, 1), range_set_(1, 20, bound=20)) [1, 2, 3, 4, 5, 6, 7, 8, 9, 10, 11, 12, 13, 14, 15, 16, 17, 18, 19, 20] 20 0.99\n",
        "lambda : mapset_(lambda y1: ipowf_(y1, 2), range_set_(1, 20, bound=20)) [1, 9, 16, 4] 20 0.99\n",
        "lambda : mapset_(lambda y1: ipowf_(y1, 3), range_set_(1, 20, bound=20)) [1, 8] 20 0.99\n",
        "lambda : mapset_(lambda y1: ipowf_(y1, 4), range_set_(1, 20, bound=20)) [1, 16] 20 0.99\n",
        "lambda : mapset_(lambda y1: ipowf_(y1, 5), range_set_(1, 20, bound=20)) [1] 20 0.99\n",
        "lambda : mapset_(lambda y1: ipowf_(1, y1), range_set_(1, 20, bound=20)) [1] 20 0.99\n",
        "lambda : mapset_(lambda y1: ipowf_(2, y1), range_set_(1, 20, bound=20)) [2, 4, 8, 16] 20 0.99\n",
        "lambda : mapset_(lambda y1: ipowf_(3, y1), range_set_(1, 20, bound=20)) [3, 9] 20 0.99\n",
        "lambda : mapset_(lambda y1: ipowf_(4, y1), range_set_(1, 20, bound=20)) [4, 16] 20 0.99\n",
        "lambda : mapset_(lambda y1: ipowf_(5, y1), range_set_(1, 20, bound=20)) [5] 20 0.99\n",
        "lambda : mapset_(lambda y1: plus_(y1, 1), range_set_(1, 20, bound=20)) [2, 3, 4, 5, 6, 7, 8, 9, 10, 11, 12, 13, 14, 15, 16, 17, 18, 19, 20] 20 0.99\n",
        "lambda : mapset_(lambda y1: plus_(y1, 2), range_set_(1, 20, bound=20)) [3, 4, 5, 6, 7, 8, 9, 10, 11, 12, 13, 14, 15, 16, 17, 18, 19, 20] 20 0.99\n",
        "lambda : mapset_(lambda y1: plus_(y1, 3), range_set_(1, 20, bound=20)) [4, 5, 6, 7, 8, 9, 10, 11, 12, 13, 14, 15, 16, 17, 18, 19, 20] 20 0.99\n",
        "lambda : mapset_(lambda y1: plus_(y1, 4), range_set_(1, 20, bound=20)) [5, 6, 7, 8, 9, 10, 11, 12, 13, 14, 15, 16, 17, 18, 19, 20] 20 0.99\n",
        "lambda : mapset_(lambda y1: plus_(y1, 5), range_set_(1, 20, bound=20)) [6, 7, 8, 9, 10, 11, 12, 13, 14, 15, 16, 17, 18, 19, 20] 20 0.99\n",
        "SET -> mapset_['FUNC', 'RANGE'] w/ p=1.0, resample_p=1.0\n",
        "EXPR -> times_['X', 'N'] w/ p=1.0, resample_p=1.0\n",
        "EXPR -> ipowf_['X', 'N'] w/ p=1.0, resample_p=1.0\n",
        "EXPR -> ipowf_['N', 'X'] w/ p=1.0, resample_p=1.0\n",
        "EXPR -> plus_['X', 'N'] w/ p=1.0, resample_p=1.0\n",
        "N -> 1 w/ p=1.0, resample_p=1.0\n",
        "N -> 2 w/ p=1.0, resample_p=1.0\n",
        "N -> 3 w/ p=1.0, resample_p=1.0\n",
        "N -> 4 w/ p=1.0, resample_p=1.0\n",
        "N -> 5 w/ p=1.0, resample_p=1.0\n",
        "START -> ['SET'] w/ p=1.0, resample_p=1.0\n",
        "RANGE -> range_set_['1', '20', 'bound=20'] w/ p=1.0, resample_p=1.0\n",
        "FUNC -> lambda['EXPR'] w/ p=1.0, resample_p=1.0BV:X;None;y\n",
        "['1.000', '1.533', '2.104', '0.542', '0.442', '0.035', '0.002', '2.980', '1.416', '2.001', '1.000', '1.000', '1.000']"
       ]
      },
      {
       "output_type": "stream",
       "stream": "stdout",
       "text": [
        "\n",
        "500 ----------------------------------------------------------------------------------------------------\n",
        "-22.7409305916 -88.6898762453 -111.430806837\n",
        "['1.000', '2.022', '0.447', '0.128', '0.372', '0.019', '0.002', '3.640', '0.356', '1.841', '1.000', '1.000', '1.000']"
       ]
      },
      {
       "output_type": "stream",
       "stream": "stdout",
       "text": [
        "\n",
        "1000 ----------------------------------------------------------------------------------------------------\n",
        "-25.2859909103 -59.5426243751 -84.8286152854\n",
        "['1.000', '2.347', '0.017', '0.056', '0.018', '0.004', '0.002', '4.000', '0.171', '1.600', '1.000', '1.000', '1.000']"
       ]
      },
      {
       "output_type": "stream",
       "stream": "stdout",
       "text": [
        "\n",
        "1500 ----------------------------------------------------------------------------------------------------\n",
        "-34.0263332971 -31.0847974004 -65.1111306975\n",
        "['1.000', '2.970', '0.019', '0.068', '0.192', '0.003', '0.002', '4.922', '0.176', '0.658', '1.000', '1.000', '1.000']"
       ]
      },
      {
       "output_type": "stream",
       "stream": "stdout",
       "text": [
        "\n",
        "2000 ----------------------------------------------------------------------------------------------------\n",
        "-32.9407685904 -21.8011298334 -54.7418984238\n",
        "['1.000', '2.949', '0.013', '0.059', '0.117', '0.003', '0.002', '4.779', '0.113', '0.187', '1.000', '1.000', '1.000']"
       ]
      },
      {
       "output_type": "stream",
       "stream": "stdout",
       "text": [
        "\n",
        "2500 ----------------------------------------------------------------------------------------------------\n",
        "-34.9236061872 -15.9317399853 -50.8553461725\n",
        "['1.000', '4.155', '0.146', '0.013', '0.046', '0.002', '0.001', '3.647', '0.072', '0.084', '1.000', '1.000', '1.000']"
       ]
      },
      {
       "output_type": "stream",
       "stream": "stdout",
       "text": [
        "\n",
        "3000 ----------------------------------------------------------------------------------------------------\n",
        "-37.3077011199 -12.5951178122 -49.9028189322\n",
        "['1.000', '4.119', '0.203', '0.141', '0.128', '0.003', '0.001', '3.967', '0.033', '0.010', '1.000', '1.000', '1.000']"
       ]
      },
      {
       "output_type": "stream",
       "stream": "stdout",
       "text": [
        "\n",
        "3500 ----------------------------------------------------------------------------------------------------\n",
        "-36.6275066428 -14.5793381331 -51.2068447759\n",
        "['1.000', '4.651', '0.109', '0.473', '0.035', '0.002', '0.001', '4.775', '0.079', '0.085', '1.000', '1.000', '1.000']"
       ]
      },
      {
       "output_type": "stream",
       "stream": "stdout",
       "text": [
        "\n",
        "4000 ----------------------------------------------------------------------------------------------------\n",
        "-36.1388062949 -13.2209249644 -49.3597312593\n",
        "['1.000', '5.279', '0.286', '0.248', '0.250', '0.001', '0.001', '4.801', '0.236', '0.102', '1.000', '1.000', '1.000']"
       ]
      },
      {
       "output_type": "stream",
       "stream": "stdout",
       "text": [
        "\n",
        "4500 ----------------------------------------------------------------------------------------------------\n",
        "-33.5790268488 -17.4639255271 -51.0429523759\n",
        "['1.000', '3.691', '0.155', '0.010', '0.103', '0.001', '0.002', '4.899', '0.117', '0.400', '1.000', '1.000', '1.000']"
       ]
      },
      {
       "output_type": "stream",
       "stream": "stdout",
       "text": [
        "\n",
        "5000 ----------------------------------------------------------------------------------------------------\n",
        "-35.1125980288 -17.2045978879 -52.3171959166\n",
        "['1.000', '3.698', '0.272', '0.353', '0.134', '0.001', '0.002', '5.935', '0.051', '0.313', '1.000', '1.000', '1.000']"
       ]
      },
      {
       "output_type": "stream",
       "stream": "stdout",
       "text": [
        "\n",
        "5500 ----------------------------------------------------------------------------------------------------\n",
        "-33.0227609826 -20.4865512352 -53.5093122179\n",
        "['1.000', '3.345', '0.123', '0.182', '0.106', '0.001', '0.002', '6.785', '0.230', '0.042', '1.000', '1.000', '1.000']"
       ]
      },
      {
       "output_type": "stream",
       "stream": "stdout",
       "text": [
        "\n",
        "6000 ----------------------------------------------------------------------------------------------------\n",
        "-35.2270888762 -15.0999305277 -50.327019404\n",
        "['1.000', '2.935', '0.151', '0.389', '0.290', '0.002', '0.002', '7.050', '0.023', '0.697', '1.000', '1.000', '1.000']"
       ]
      },
      {
       "output_type": "stream",
       "stream": "stdout",
       "text": [
        "\n",
        "6500 ----------------------------------------------------------------------------------------------------\n",
        "-33.4615364604 -24.3234649822 -57.7850014427\n",
        "['1.000', '2.584', '0.094', '0.024', '0.016', '0.002', '0.002', '7.623', '0.273', '0.287', '1.000', '1.000', '1.000']"
       ]
      },
      {
       "output_type": "stream",
       "stream": "stdout",
       "text": [
        "\n",
        "7000 ----------------------------------------------------------------------------------------------------\n",
        "-37.446381115 -12.8404388584 -50.2868199734\n",
        "['1.000', '2.723', '0.064', '0.041', '0.044', '0.002', '0.002', '9.094', '0.063', '0.285', '1.000', '1.000', '1.000']"
       ]
      },
      {
       "output_type": "stream",
       "stream": "stdout",
       "text": [
        "\n",
        "7500 ----------------------------------------------------------------------------------------------------\n",
        "-38.7144198126 -9.98305268607 -48.6974724987\n",
        "['1.000', '2.291', '0.131', '0.031', '0.138', '0.002', '0.002', '9.492', '0.375', '0.438', '1.000', '1.000', '1.000']"
       ]
      },
      {
       "output_type": "stream",
       "stream": "stdout",
       "text": [
        "\n",
        "8000 ----------------------------------------------------------------------------------------------------\n",
        "-35.6226629374 -17.6187603508 -53.2414232883\n",
        "['1.000', '2.508', '0.053', '0.037', '0.049', '0.002', '0.002', '9.830', '0.271', '0.159', '1.000', '1.000', '1.000']"
       ]
      },
      {
       "output_type": "stream",
       "stream": "stdout",
       "text": [
        "\n",
        "8500 ----------------------------------------------------------------------------------------------------\n",
        "-38.6071498954 -10.4819866643 -49.0891365596\n",
        "['1.000', '2.728', '0.118', '0.139', '0.076', '0.001', '0.002', '8.558', '0.165', '0.041', '1.000', '1.000', '1.000']"
       ]
      },
      {
       "output_type": "stream",
       "stream": "stdout",
       "text": [
        "\n",
        "9000 ----------------------------------------------------------------------------------------------------\n",
        "-37.1577751791 -13.3363266946 -50.4941018737\n",
        "['1.000', '2.645', '0.086', '0.048', '0.019', '0.001', '0.002', '7.990', '0.283', '0.161', '1.000', '1.000', '1.000']"
       ]
      },
      {
       "output_type": "stream",
       "stream": "stdout",
       "text": [
        "\n",
        "9500 ----------------------------------------------------------------------------------------------------\n",
        "-37.49298537 -12.1469922908 -49.6399776608\n",
        "['1.000', '3.462', '0.184', '0.215', '0.065', '0.001', '0.002', '8.705', '0.158', '1.167', '1.000', '1.000', '1.000']"
       ]
      },
      {
       "output_type": "stream",
       "stream": "stdout",
       "text": [
        "\n",
        "10000 ----------------------------------------------------------------------------------------------------\n",
        "-35.5130142678 -19.7729699247 -55.2859841925\n",
        "~~~~~~~~~~~~~~~~~~~~~~~~~~~~~~~~~~~~~~~~~~~~~~~~~~~~~~~~~~~~~~~~~~~~~~~~~~~~~~~~~~~~~~~~~~~~~~~~~~~~ \n",
        "Top GrammarHypotheses:\n",
        "******************************************************************************************\n",
        "Vector:  ['1.000', '4.673', '0.076', '0.055', '0.191', '0.001', '0.001', '4.990', '0.146', '0.262', '1.000', '1.000', '1.000']\n",
        "Prior: -35.490 \tLikelihood: -13.043 \tPostScore: -48.533\n",
        "******************************************************************************************\n",
        "Vector:  ['1.000', '2.453', '0.019', '0.050', '0.074', '0.002', '0.002', '8.502', '0.093', '0.164', '1.000', '1.000', '1.000']\n",
        "Prior: -38.842 \tLikelihood: -9.577 \tPostScore: -48.419\n",
        "******************************************************************************************\n",
        "Vector:  ['1.000', '2.941', '0.051', '0.015', '0.063', '0.001', '0.002', '7.288', '0.134', '0.136', '1.000', '1.000', '1.000']\n",
        "Prior: -38.777 \tLikelihood: -9.632 \tPostScore: -48.409\n",
        "******************************************************************************************\n",
        "Vector:  ['1.000', '2.685', '0.023', '0.076', '0.068', '0.002', '0.002', '7.405', '0.163', '0.202', '1.000', '1.000', '1.000']\n",
        "Prior: -36.855 \tLikelihood: -11.484 \tPostScore: -48.339\n",
        "******************************************************************************************\n",
        "Vector:  ['1.000', '3.827', '0.102', '0.043', '0.055', '0.001', '0.002', '5.920', '0.129', '0.113', '1.000', '1.000', '1.000']\n",
        "Prior: -36.466 \tLikelihood: -11.827 \tPostScore: -48.293\n",
        "******************************************************************************************\n",
        "Vector:  ['1.000', '4.495', '0.046', '0.102', '0.173', '0.001', '0.001', '4.811', '0.108', '0.281', '1.000', '1.000', '1.000']\n",
        "Prior: -35.395 \tLikelihood: -12.869 \tPostScore: -48.264\n",
        "******************************************************************************************\n",
        "Vector:  ['1.000', '4.036', '0.048', '0.102', '0.067', '0.001', '0.001', '3.791', '0.117', '0.237', '1.000', '1.000', '1.000']\n",
        "Prior: -35.718 \tLikelihood: -12.542 \tPostScore: -48.261\n",
        "******************************************************************************************\n",
        "Vector:  ['1.000', '3.980', '0.152', '0.056', '0.078', '0.001', '0.001', '3.626', '0.091', '0.124', '1.000', '1.000', '1.000']\n",
        "Prior: -35.686 \tLikelihood: -12.487 \tPostScore: -48.172\n",
        "******************************************************************************************\n",
        "Vector:  ['1.000', '5.180', '0.120', '0.087', '0.137', '0.001', '0.001', '5.189', '0.032', '0.016', '1.000', '1.000', '1.000']\n",
        "Prior: -39.474 \tLikelihood: -8.637 \tPostScore: -48.111\n",
        "******************************************************************************************\n",
        "Vector:  ['1.000', '4.553', '0.059', '0.159', '0.076', '0.002', '0.001', '4.521', '0.022', '0.107', '1.000', '1.000', '1.000']\n",
        "Prior: -37.489 \tLikelihood: -9.813 \tPostScore: -47.302\n"
       ]
      }
     ],
     "prompt_number": 1
    },
    {
     "cell_type": "code",
     "collapsed": false,
     "input": [
      "%qtconsole"
     ],
     "language": "python",
     "metadata": {},
     "outputs": [],
     "prompt_number": 20
    },
    {
     "cell_type": "code",
     "collapsed": false,
     "input": [
      "'''Print distribution over power rule:  [prior, likelihood, posterior]'''\n",
      "# vals, posteriors = grammar_h0.rule_distribution(data, 'ipowf_', np.arange(0.1, 5., 0.1))\n",
      "# print_dist(vals, posteriors)\n",
      "#visualize_dist(vals, posteriors, 'union_')"
     ],
     "language": "python",
     "metadata": {},
     "outputs": [
      {
       "metadata": {},
       "output_type": "pyout",
       "prompt_number": 5,
       "text": [
        "'print distribution over power rule:  [prior, likelihood, posterior]'"
       ]
      }
     ],
     "prompt_number": 5
    },
    {
     "cell_type": "code",
     "collapsed": false,
     "input": [
      "%pylab\n",
      "fig, ax = subplots()\n",
      "ax.set_yticklabels"
     ],
     "language": "python",
     "metadata": {},
     "outputs": [
      {
       "output_type": "stream",
       "stream": "stdout",
       "text": [
        "Using matplotlib backend: MacOSX\n",
        "Populating the interactive namespace from numpy and matplotlib\n"
       ]
      },
      {
       "output_type": "stream",
       "stream": "stderr",
       "text": [
        "WARNING: pylab import has clobbered these variables: ['log']\n",
        "`%matplotlib` prevents importing * from pylab and numpy\n"
       ]
      }
     ],
     "prompt_number": 2
    },
    {
     "cell_type": "code",
     "collapsed": false,
     "input": [
      "[h for h in simple_grammar_2.enumerate(d=5)]"
     ],
     "language": "python",
     "metadata": {},
     "outputs": [
      {
       "metadata": {},
       "output_type": "pyout",
       "prompt_number": 6,
       "text": [
        "[mapset_(lambda y1: times_(y1, 1), range_set_(1, 20, bound=20)),\n",
        " mapset_(lambda y1: times_(y1, 2), range_set_(1, 20, bound=20)),\n",
        " mapset_(lambda y1: times_(y1, 3), range_set_(1, 20, bound=20)),\n",
        " mapset_(lambda y1: times_(y1, 4), range_set_(1, 20, bound=20)),\n",
        " mapset_(lambda y1: times_(y1, 5), range_set_(1, 20, bound=20)),\n",
        " mapset_(lambda y1: ipowf_(y1, 1), range_set_(1, 20, bound=20)),\n",
        " mapset_(lambda y1: ipowf_(y1, 2), range_set_(1, 20, bound=20)),\n",
        " mapset_(lambda y1: ipowf_(y1, 3), range_set_(1, 20, bound=20)),\n",
        " mapset_(lambda y1: ipowf_(y1, 4), range_set_(1, 20, bound=20)),\n",
        " mapset_(lambda y1: ipowf_(y1, 5), range_set_(1, 20, bound=20)),\n",
        " mapset_(lambda y1: ipowf_(1, y1), range_set_(1, 20, bound=20)),\n",
        " mapset_(lambda y1: ipowf_(2, y1), range_set_(1, 20, bound=20)),\n",
        " mapset_(lambda y1: ipowf_(3, y1), range_set_(1, 20, bound=20)),\n",
        " mapset_(lambda y1: ipowf_(4, y1), range_set_(1, 20, bound=20)),\n",
        " mapset_(lambda y1: ipowf_(5, y1), range_set_(1, 20, bound=20)),\n",
        " mapset_(lambda y1: plus_(y1, 1), range_set_(1, 20, bound=20)),\n",
        " mapset_(lambda y1: plus_(y1, 2), range_set_(1, 20, bound=20)),\n",
        " mapset_(lambda y1: plus_(y1, 3), range_set_(1, 20, bound=20)),\n",
        " mapset_(lambda y1: plus_(y1, 4), range_set_(1, 20, bound=20)),\n",
        " mapset_(lambda y1: plus_(y1, 5), range_set_(1, 20, bound=20))]"
       ]
      }
     ],
     "prompt_number": 6
    }
   ],
   "metadata": {}
  }
 ]
}