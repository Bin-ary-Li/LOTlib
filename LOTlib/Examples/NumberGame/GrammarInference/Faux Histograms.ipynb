{
 "metadata": {
  "name": "",
  "signature": "sha256:020157cff616262d5a7b062e84eee7ccda7123c5e5ece2bce1311df72b9c728a"
 },
 "nbformat": 3,
 "nbformat_minor": 0,
 "worksheets": [
  {
   "cells": [
    {
     "cell_type": "heading",
     "level": 1,
     "metadata": {},
     "source": [
      "0. Execute this first"
     ]
    },
    {
     "cell_type": "code",
     "collapsed": false,
     "input": [
      "from Run.Demo import *"
     ],
     "language": "python",
     "metadata": {},
     "outputs": [
      {
       "ename": "SystemExit",
       "evalue": "2",
       "output_type": "pyerr",
       "traceback": [
        "An exception has occurred, use %tb to see the full traceback.\n",
        "\u001b[0;31mSystemExit\u001b[0m\u001b[0;31m:\u001b[0m 2\n"
       ]
      },
      {
       "output_type": "stream",
       "stream": "stderr",
       "text": [
        "Usage: -c [options]\n",
        "\n",
        "-c: error: no such option: -f\n",
        "To exit: use 'exit', 'quit', or Ctrl-D.\n"
       ]
      }
     ],
     "prompt_number": 1
    },
    {
     "cell_type": "heading",
     "level": 1,
     "metadata": {},
     "source": [
      "1. Generate hypotheses first"
     ]
    },
    {
     "cell_type": "code",
     "collapsed": false,
     "input": [
      "grammar_n = 10000\n",
      "skip = 10\n",
      "cap = grammar_n/skip\n",
      "\n",
      "hypotheses = []\n",
      "for fn in mix_grammar.enumerate(d=6):\n",
      "    h = JoshConceptsHypothesis(grammar=mix_grammar, domain=100, alpha=0.9)\n",
      "    h.set_value(fn)\n",
      "    hypotheses.append(h)"
     ],
     "language": "python",
     "metadata": {},
     "outputs": []
    },
    {
     "cell_type": "heading",
     "level": 1,
     "metadata": {},
     "source": [
      "2. Generate faux data"
     ]
    },
    {
     "cell_type": "code",
     "collapsed": false,
     "input": [
      "# 16 => 15\n",
      "BDA_data_similarity_1 = [\n",
      "    FunctionData(\n",
      "        input=[16],\n",
      "        output={15: (3, 3)})]\n",
      "BDA_data_similarity_2 = [\n",
      "    FunctionData(\n",
      "        input=[16],\n",
      "        output={15: (30, 3)})]\n",
      "BDA_data_similarity_3 = [\n",
      "    FunctionData(\n",
      "        input=[16],\n",
      "        output={15: (3, 30)})]\n",
      "BDA_data_similarity_4 = [\n",
      "    FunctionData(\n",
      "        input=[16],\n",
      "        output={15: (30, 30)})]\n",
      "\n",
      "# 4 => 99\n",
      "BDA_data_rule_1 = [\n",
      "    FunctionData(\n",
      "        input=[16],\n",
      "        output={64: (3, 3)})]\n",
      "BDA_data_rule_2 = [\n",
      "    FunctionData(\n",
      "        input=[16], \n",
      "        output={64: (30, 3)})]\n",
      "BDA_data_rule_3 = [\n",
      "    FunctionData(\n",
      "        input=[16],\n",
      "        output={64: (3, 30)})]\n",
      "BDA_data_rule_4 = [\n",
      "    FunctionData(\n",
      "        input=[16],\n",
      "        output={64: (30, 30)})]\n",
      "\n",
      "mixture_ratios = [None]*8\n",
      "for i,d in enumerate((BDA_data_similarity_1, BDA_data_similarity_2, BDA_data_similarity_3, BDA_data_similarity_4,\n",
      "                      BDA_data_rule_1, BDA_data_rule_2, BDA_data_rule_3, BDA_data_rule_4)):\n",
      "    grammar_h0 = MixtureGrammarHypothesis(mix_grammar, hypotheses, propose_step=.1, propose_n=1)\n",
      "    mh_grammar_sampler = MHSampler(grammar_h0, d, grammar_n)\n",
      "    mh_grammar_summary = VectorSummary(skip=skip, cap=cap)\n",
      "\n",
      "    for h in mh_grammar_summary(mh_grammar_sampler):\n",
      "        pass\n",
      "\n",
      "    # mixture_ratios[i] = [(s.value[0]/(s.value[0]+s.value[1])) for s in mh_grammar_summary.samples]\n",
      "    mixture_ratios[i] = [(s.value[s.get_rules(rule_to='MATH')[0][0]] / (s.value[s.get_rules(rule_to='MATH')[0][0]]+s.value[s.get_rules(rule_to='INTERVAL')[0][0]])) for s in mh_grammar_summary.samples]\n",
      "\n",
      "f = open(\"out/mix_ratios.p\", \"wb\")\n",
      "pickle.dump(mixture_ratios, f)  "
     ],
     "language": "python",
     "metadata": {},
     "outputs": []
    },
    {
     "cell_type": "heading",
     "level": 1,
     "metadata": {},
     "source": [
      "3. Generate histograms of faux data to show how BDA should work"
     ]
    },
    {
     "cell_type": "code",
     "collapsed": false,
     "input": [
      "%pylab\n",
      "import pickle\n",
      "\n",
      "try:\n",
      "    if mixture_ratios[0]: pass\n",
      "except Exception:\n",
      "    f = open(\"Run/out/mix_ratios.p\", \"rb\")\n",
      "    mixture_ratios = pickle.load(f)\n",
      "\n",
      "pylab.rcParams['figure.figsize'] = 4, 3\n",
      "pylab.rcParams['figure.subplot.top'] = 0.9\n",
      "pylab.rcParams['figure.subplot.bottom'] = 0.15\n",
      "pylab.rcParams['figure.subplot.left'] = 0.13\n",
      "pylab.rcParams['figure.subplot.right'] = 0.95\n",
      "\n",
      "\n",
      "# plt.subplots_adjust(hspace=3.)\n",
      "n_bins = 10\n",
      "\n",
      "# =====================================================================================================================\n",
      "# ------------------------------------------------------------\n",
      "# Z_1: [16=>15]  (3,3) \n",
      "\n",
      "plt.clf()\n",
      "n, bins, patches = plt.hist(mixture_ratios[0], range=(0,1), bins=n_bins, normed=1, facecolor='red', alpha=0.7)\n",
      "plt.xlabel(r'$\\lambda$', labelpad=-3, fontsize='x-large')\n",
      "plt.ylabel(r'$p(\\lambda | D, x, y, z)$', fontsize='large')\n",
      "pyplot.locator_params(axis='y', nbins=7, tight=1)\n",
      "# hist, bins = np.histogram(mixture_ratios[0], range=(0,1), normed=1, bins=n_bins, density=True)\n",
      "# widths = np.diff(bins)\n",
      "# plt.bar(bins[:-1], hist, widths, facecolor='red', alpha=0.7)\n",
      "plt.savefig('hist/16-15_3-3.png')\n",
      "\n",
      "# ------------------------------------------------------------\n",
      "# Z_2: [16=>15]  (30,3)\n",
      "\n",
      "plt.clf()\n",
      "n, bins, patches = plt.hist(mixture_ratios[1], range=(0,1), bins=n_bins, normed=1, facecolor='green', alpha=0.7)\n",
      "plt.xlabel(r'$\\lambda$', labelpad=-3, fontsize='x-large')\n",
      "plt.ylabel(r'$p(\\lambda | D, x, y, z)$', fontsize='large')\n",
      "pyplot.locator_params(axis='y', nbins=7, tight=1)\n",
      "plt.savefig('hist/16-15_30-3.png')\n",
      "\n",
      "# ------------------------------------------------------------\n",
      "# Z_3: [16=>15]  (3,30)\n",
      "\n",
      "plt.clf()\n",
      "n, bins, patches = plt.hist(mixture_ratios[2], range=(0,1), bins=n_bins, normed=1, facecolor='blue', alpha=0.7)\n",
      "plt.xlabel(r'$\\lambda$', labelpad=-3, fontsize='x-large')\n",
      "plt.ylabel(r'$p(\\lambda | D, x, y, z)$', fontsize='large')\n",
      "pyplot.locator_params(axis='y', nbins=4, tight=1)\n",
      "plt.savefig('hist/16-15_3-30.png')\n",
      "\n",
      "# ------------------------------------------------------------\n",
      "# Z_4: [16=>15]  (30,30)\n",
      "\n",
      "plt.clf()\n",
      "n, bins, patches = plt.hist(mixture_ratios[3], range=(0,1), bins=n_bins, normed=1, facecolor='blue', alpha=0.7)\n",
      "plt.xlabel(r'$\\lambda$', labelpad=-3, fontsize='x-large')\n",
      "plt.ylabel(r'$p(\\lambda | D, x, y, z)$', fontsize='large')\n",
      "pyplot.locator_params(axis='y', nbins=7, tight=1)\n",
      "plt.savefig('hist/16-15_30-30.png')\n",
      "\n",
      "\n",
      "# =====================================================================================================================\n",
      "# ------------------------------------------------------------\n",
      "# Z_5: [16=>64]  (3,3)\n",
      "\n",
      "plt.clf()\n",
      "n, bins, patches = plt.hist(mixture_ratios[4], range=(0,1), bins=n_bins, normed=1, facecolor='aqua', alpha=0.7)\n",
      "plt.xlabel(r'$\\lambda$', labelpad=-3, fontsize='x-large')\n",
      "plt.ylabel(r'$p(\\lambda | D, x, y, z)$', fontsize='large')\n",
      "pyplot.locator_params(axis='y', nbins=4, tight=1)\n",
      "plt.savefig('hist/16-64_3-3.png')\n",
      "\n",
      "# ------------------------------------------------------------\n",
      "# Z_6: [16=>64]  (30,3)\n",
      "\n",
      "plt.clf()\n",
      "n, bins, patches = plt.hist(mixture_ratios[5], range=(0,1), bins=n_bins, normed=1, facecolor='darkviolet', alpha=0.7)\n",
      "plt.xlabel(r'$\\lambda$', labelpad=-3, fontsize='x-large')\n",
      "plt.ylabel(r'$p(\\lambda | D, x, y, z)$', fontsize='large')\n",
      "pyplot.locator_params(axis='y', nbins=4, tight=1)\n",
      "plt.savefig('hist/16-64_30-3.png')\n",
      "\n",
      "# ------------------------------------------------------------\n",
      "# Z_7 [16=>64]  (3,30)\n",
      "\n",
      "plt.clf()\n",
      "n, bins, patches = plt.hist(mixture_ratios[6], range=(0,1), bins=n_bins, normed=1, facecolor='orangered', alpha=0.7)\n",
      "plt.xlabel(r'$\\lambda$', labelpad=-3, fontsize='x-large')\n",
      "plt.ylabel(r'$p(\\lambda | D, x, y, z)$', fontsize='large')\n",
      "pyplot.locator_params(axis='y', nbins=8, tight=1)\n",
      "plt.savefig('hist/16-64_3-30.png')\n",
      "\n",
      "# ------------------------------------------------------------\n",
      "# Z_8: [16=>64]  (30,30)\n",
      "\n",
      "plt.clf()\n",
      "n, bins, patches = plt.hist(mixture_ratios[7], range=(0,1), bins=n_bins, normed=1, facecolor='aqua', alpha=0.7)\n",
      "plt.xlabel(r'$\\lambda$', labelpad=-3, fontsize='x-large')\n",
      "plt.ylabel(r'$p(\\lambda | D, x, y, z)$', fontsize='large')\n",
      "pyplot.locator_params(axis='y', nbins=8, tight=1)\n",
      "plt.savefig('hist/16-64_30-30.png')\n",
      "\n",
      "\n",
      "\n",
      "\n",
      "\n",
      "# =====================================================================================================================\n",
      "# ------------------------------------------------------------\n",
      "# plt.clf()\n",
      "# plt.hist(mixture_ratios[4], range=(0,1), bins=n_bins, normed=1, facecolor='green', alpha=0.6, label='[99: (3,30)]')\n",
      "# plt.hist(mixture_ratios[5], range=(0,1), bins=n_bins, normed=1, facecolor='blue', alpha=0.6, label='[99: (30,3)]')\n",
      "# plt.hist(mixture_ratios[3], range=(0,1), bins=n_bins, normed=1, facecolor='red', alpha=0.6, label='[99: (30,30)]')\n",
      "# plt.xlabel('Lambda')\n",
      "# plt.ylabel('Probability')\n",
      "# # plt.title(r'Mixture Model Samples for Input: [16], Output: [15]')\n",
      "# legend = plt.legend(loc='upper center')\n",
      "# plt.savefig('hist/16-99_all.png')"
     ],
     "language": "python",
     "metadata": {},
     "outputs": [
      {
       "output_type": "stream",
       "stream": "stdout",
       "text": [
        "Using matplotlib backend: TkAgg\n",
        "Populating the interactive namespace from numpy and matplotlib\n"
       ]
      },
      {
       "output_type": "stream",
       "stream": "stderr",
       "text": [
        "WARNING: pylab import has clobbered these variables: ['f']\n",
        "`%pylab --no-import-all` prevents importing * from pylab and numpy\n"
       ]
      }
     ],
     "prompt_number": 4
    }
   ],
   "metadata": {}
  }
 ]
}