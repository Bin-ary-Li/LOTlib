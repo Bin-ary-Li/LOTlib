{
 "metadata": {
  "name": "",
  "signature": "sha256:43205dde165b187ef3d0c87ba8af1d6eab7b88acf8496bc3302bb581827b74b5"
 },
 "nbformat": 3,
 "nbformat_minor": 0,
 "worksheets": [
  {
   "cells": [
    {
     "cell_type": "code",
     "collapsed": false,
     "input": [
      "%%bash --bg\n",
      "# LOT grammar, josh data,  alpha 0.9, domain 100\n",
      "# sample 100k ngh via mcmc, collect top 1000 per chain, run 10 chains per data point, mcmc+mpi\n",
      "# Save to ngh file 'out/ngh_lot100k.p'\n",
      "mpiexec -n 16 python MakeNGHs.py -f out/ngh_lot100k.p -do 100 -a 0.9 -g lot_grammar -d out/data.p -i 100000 -c 10 -n 1000 -mcmc -mpi\n",
      "\n",
      "# sample 100k gh via mcmc, skip 100 cap 1000, pickle\n",
      "# Load ngh from file 'out/ngh_lot100k.p'\n",
      "# Save gh to file 'out/gh_lot100k.p'\n",
      "python Run.py -q -p -csv out/gh_100k.p -ngh out/ngh_100k.p -g lot_grammar -d out/data.p -i 100000 -sk 100 -cap 1000\n",
      "\n",
      "# Generate .eps figure files for correlation plots (mix, indep, lot) & violin plots (indep, lot)\n",
      "Rscript CSVtoFigures.R lot out/gh_lot100k"
     ],
     "language": "python",
     "metadata": {},
     "outputs": []
    },
    {
     "cell_type": "code",
     "collapsed": false,
     "input": [
      "from IPython.display import Image\n",
      "\n",
      "fname = 'gh_lot100k'\n",
      "\n",
      "lot_h0 = Image(filename='out/'+fname+'_correlation_h0.eps')\n",
      "lot_MAP = Image(filename='out/'+fname+'_correlation_MAP.eps')\n",
      "lot_values = Image(filename='out/'+fname+'_rule_dist.eps')"
     ],
     "language": "python",
     "metadata": {},
     "outputs": []
    },
    {
     "cell_type": "code",
     "collapsed": false,
     "input": [
      "display(lot_h0)"
     ],
     "language": "python",
     "metadata": {},
     "outputs": []
    },
    {
     "cell_type": "code",
     "collapsed": false,
     "input": [
      "display(lot_MAP)"
     ],
     "language": "python",
     "metadata": {},
     "outputs": []
    },
    {
     "cell_type": "code",
     "collapsed": false,
     "input": [
      "display(lot_values)"
     ],
     "language": "python",
     "metadata": {},
     "outputs": []
    },
    {
     "cell_type": "heading",
     "level": 3,
     "metadata": {},
     "source": [
      "Import generated summary file"
     ]
    },
    {
     "cell_type": "code",
     "collapsed": false,
     "input": [
      "import pickle\n",
      "with open(\"out/gh_100k.p\") as f:\n",
      "    gh_summary = pickle.load(f)"
     ],
     "language": "python",
     "metadata": {},
     "outputs": []
    },
    {
     "cell_type": "code",
     "collapsed": false,
     "input": [
      "mh_grammar_summary.plot('violin')"
     ],
     "language": "python",
     "metadata": {},
     "outputs": []
    }
   ],
   "metadata": {}
  }
 ]
}