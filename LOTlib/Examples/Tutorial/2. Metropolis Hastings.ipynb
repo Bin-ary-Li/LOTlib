{
 "metadata": {
  "name": "",
  "signature": "sha256:c3bd395af9bca96c5fc5504c9fa60b3022f9ef39158576ecf5fca32ce899aef1"
 },
 "nbformat": 3,
 "nbformat_minor": 0,
 "worksheets": [
  {
   "cells": [
    {
     "cell_type": "code",
     "collapsed": false,
     "input": [
      "# Input data\n",
      "data = [3, 9, 17]\n",
      "# Range of number in domain => [1, domain]\n",
      "domain = 100\n",
      "# Number of hypotheses to generate\n",
      "num_iters = 50000\n",
      "# Noise parameter\n",
      "noise = 0.9\n",
      "\n",
      "# If we use metropolis hastings to generate samples . . .\n",
      "hypotheses = set()\n",
      "h0 = NumberGameExpression(grammar, domain=domain, noise=noise)\n",
      "\n",
      "for h in MHSampler(h0, data, steps=num_iters):\n",
      "    #print h   # with this you can see how hill climbing moves towards maxima\n",
      "    hypotheses.add(h)\n",
      "\n",
      "#~~~~~~~~~~~~ Printing prior, likelihood, & normalized posterior score ~~~~~~~~~~~~~~~~~#\n",
      "best_hypotheses = sorted(hypotheses, key=lambda x: x.posterior_score)\n",
      "best_hypotheses.reverse()\n",
      "print '======================================='\n",
      "for i in reversed(range(10)):\n",
      "    h = best_hypotheses[i]\n",
      "    print (i+1),':\\t','Hypothesis:\\t',h\n",
      "    print '\\tPosterior:\\t%.5f' % exp(h.posterior_score - Z)\n",
      "    # print '\\t\\tPrior:\\t\\t%.3f' % h.prior\n",
      "    # print '\\t\\tLikehd:\\t\\t%.3f' % h.likelihood\n",
      "    print '======================================='\n",
      "\n",
      "print '\\n'\n",
      "print str(num_iters) + ' total hypotheses generated'\n",
      "print str(len(hypotheses)) + ' unique hypotheses'\n"
     ],
     "language": "python",
     "metadata": {},
     "outputs": []
    }
   ],
   "metadata": {}
  }
 ]
}