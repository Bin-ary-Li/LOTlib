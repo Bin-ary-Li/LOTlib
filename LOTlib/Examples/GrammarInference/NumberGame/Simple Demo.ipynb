{
 "metadata": {
  "name": "",
  "signature": "sha256:ad267d559f519ed64b71de85c82d0480c74c2c07d320fe85aa144e4eead0de89"
 },
 "nbformat": 3,
 "nbformat_minor": 0,
 "worksheets": [
  {
   "cells": [
    {
     "cell_type": "code",
     "collapsed": true,
     "input": [
      "from SimpleDemo import *\n",
      "run(grammar=complex_grammar, data=toy_3n, domain=20, alpha=0.99, enum_d=5, grammar_n=1000, cap=100, plot_type='violin', pickle_data=False)"
     ],
     "language": "python",
     "metadata": {},
     "outputs": [
      {
       "output_type": "stream",
       "stream": "stdout",
       "text": [
        "==================================================================================================== \n",
        "NumberGameHypotheses:\n",
        "lambda : mapset_(lambda y1: y1, range_set_(1, 20, bound=20)) [1, 2, 3, 4, 5, 6, 7, 8, 9, 10, 11, 12, 13, 14, 15, 16, 17, 18, 19, 20] 20 0.99\n",
        "lambda : mapset_(lambda y1: times_(y1, 1), range_set_(1, 20, bound=20)) [1, 2, 3, 4, 5, 6, 7, 8, 9, 10, 11, 12, 13, 14, 15, 16, 17, 18, 19, 20] 20 0.99\n",
        "lambda : mapset_(lambda y1: times_(y1, 2), range_set_(1, 20, bound=20)) [2, 4, 6, 8, 10, 12, 14, 16, 18, 20] 20 0.99\n",
        "lambda : mapset_(lambda y1: times_(y1, 3), range_set_(1, 20, bound=20)) [3, 6, 9, 12, 15, 18] 20 0.99\n",
        "lambda : mapset_(lambda y1: times_(y1, 4), range_set_(1, 20, bound=20)) [4, 8, 12, 16, 20] 20 0.99\n",
        "lambda : mapset_(lambda y1: times_(y1, 5), range_set_(1, 20, bound=20)) [5, 10, 15, 20] 20 0.99\n",
        "lambda : mapset_(lambda y1: ipowf_(y1, 1), range_set_(1, 20, bound=20)) [1, 2, 3, 4, 5, 6, 7, 8, 9, 10, 11, 12, 13, 14, 15, 16, 17, 18, 19, 20] 20 0.99\n",
        "lambda : mapset_(lambda y1: ipowf_(y1, 2), range_set_(1, 20, bound=20)) [1, 9, 16, 4] 20 0.99\n",
        "lambda : mapset_(lambda y1: ipowf_(y1, 3), range_set_(1, 20, bound=20)) [1, 8] 20 0.99\n",
        "lambda : mapset_(lambda y1: ipowf_(y1, 4), range_set_(1, 20, bound=20)) [1, 16] 20 0.99\n",
        "lambda : mapset_(lambda y1: ipowf_(y1, 5), range_set_(1, 20, bound=20)) [1] 20 0.99\n",
        "lambda : mapset_(lambda y1: ipowf_(1, y1), range_set_(1, 20, bound=20)) [1] 20 0.99\n",
        "lambda : mapset_(lambda y1: ipowf_(2, y1), range_set_(1, 20, bound=20)) [2, 4, 8, 16] 20 0.99\n",
        "lambda : mapset_(lambda y1: ipowf_(3, y1), range_set_(1, 20, bound=20)) [3, 9] 20 0.99\n",
        "lambda : mapset_(lambda y1: ipowf_(4, y1), range_set_(1, 20, bound=20)) [4, 16] 20 0.99\n",
        "lambda : mapset_(lambda y1: ipowf_(5, y1), range_set_(1, 20, bound=20)) [5] 20 0.99\n",
        "lambda : mapset_(lambda y1: plus_(y1, 1), range_set_(1, 20, bound=20)) [2, 3, 4, 5, 6, 7, 8, 9, 10, 11, 12, 13, 14, 15, 16, 17, 18, 19, 20] 20 0.99\n",
        "lambda : mapset_(lambda y1: plus_(y1, 2), range_set_(1, 20, bound=20)) [3, 4, 5, 6, 7, 8, 9, 10, 11, 12, 13, 14, 15, 16, 17, 18, 19, 20] 20 0.99\n",
        "lambda : mapset_(lambda y1: plus_(y1, 3), range_set_(1, 20, bound=20)) [4, 5, 6, 7, 8, 9, 10, 11, 12, 13, 14, 15, 16, 17, 18, 19, 20] 20 0.99\n",
        "lambda : mapset_(lambda y1: plus_(y1, 4), range_set_(1, 20, bound=20)) [5, 6, 7, 8, 9, 10, 11, 12, 13, 14, 15, 16, 17, 18, 19, 20] 20 0.99\n",
        "lambda : mapset_(lambda y1: plus_(y1, 5), range_set_(1, 20, bound=20)) [6, 7, 8, 9, 10, 11, 12, 13, 14, 15, 16, 17, 18, 19, 20] 20 0.99\n",
        "==================================================================================================== \n",
        "GrammarRules:\n",
        "0 \t|   SET -> mapset_['FUNC', 'RANGE']\tw/ p=1.0\n",
        "1 \t|   CONST -> 1\tw/ p=1.0\n",
        "2 \t|   CONST -> 2\tw/ p=1.0\n",
        "3 \t|   CONST -> 3\tw/ p=1.0\n",
        "4 \t|   CONST -> 4\tw/ p=1.0\n",
        "5 \t|   CONST -> 5\tw/ p=1.0\n",
        "6 \t|   START -> ['SET']\tw/ p=1.0\n",
        "7 \t|   RANGE -> range_set_['1', '20', 'bound=20']\tw/ p=1.0\n",
        "8 \t|   FUNC -> lambda['X']\tw/ p=1.0,\tBV:X;None;y\n",
        "9 \t|   X -> times_['X', 'CONST']\tw/ p=0.2\n",
        "10 \t|   X -> ipowf_['X', 'CONST']\tw/ p=0.2\n",
        "11 \t|   X -> ipowf_['CONST', 'X']\tw/ p=0.2\n",
        "12 \t|   X -> plus_['X', 'CONST']\tw/ p=0.2\n",
        "^*^*^*^*^*^*^*^*^*^*^*^*^*^*^*^*^*^*^*^*^*^*^*^*^*^*^*^*^*^*^*^*^*^*^*^*^*^*^*^*^*^*^*^*^*^*^*^*^*^*^*^*^*^*^*^*^*^*^*^* \n",
        "Generating GrammarHypothesis Samples\n",
        "^*^*^*^*^*^*^*^*^*^*^*^*^*^*^*^*^*^*^*^*^*^*^*^*^*^*^*^*^*^*^*^*^*^*^*^*^*^*^*^*^*^*^*^*^*^*^*^*^*^*^*^*^*^*^*^*^*^*^*^*\n",
        "['1.000', '0.529', '0.910', '1.251', '0.751', '0.956', '1.000', '1.000', '1.000', '0.327', '0.069', '0.454', '0.026']"
       ]
      },
      {
       "output_type": "stream",
       "stream": "stdout",
       "text": [
        "\n",
        "50 ----------------------------------------------------------------------------------------------------\n",
        "-18.3463510956 -155.247878709 -173.594229804\n",
        "['1.000', '0.519', '0.813', '1.493', '0.271', '0.709', '1.000', '1.000', '1.000', '0.295', '0.046', '0.548', '0.058']"
       ]
      }
     ]
    },
    {
     "cell_type": "code",
     "collapsed": false,
     "input": [
      "%qtconsole"
     ],
     "language": "python",
     "metadata": {},
     "outputs": [],
     "prompt_number": 1
    },
    {
     "cell_type": "code",
     "collapsed": false,
     "input": [
      "import matplotlib.gridspec as gridspec\n",
      "gridspec.GridSpecBase"
     ],
     "language": "python",
     "metadata": {},
     "outputs": []
    }
   ],
   "metadata": {}
  }
 ]
}