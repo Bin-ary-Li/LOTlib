{
 "metadata": {
  "name": "",
  "signature": "sha256:9bf3105f1003d7edc6faad3f8129bdd3fba0eb3bd5f1b017915a15eb2e7eea0d"
 },
 "nbformat": 3,
 "nbformat_minor": 0,
 "worksheets": [
  {
   "cells": [
    {
     "cell_type": "code",
     "collapsed": false,
     "input": [
      "from SimpleDemo import *"
     ],
     "language": "python",
     "metadata": {},
     "outputs": []
    },
    {
     "cell_type": "code",
     "collapsed": false,
     "input": [
      "run(grammar=mix_grammar, data=toy_3n, domain=20, alpha=0.99, enum_d=5, grammar_n=1000, cap=100, \n",
      "    print_stuff=True, plot_type='violin', pickle_data='load')"
     ],
     "language": "python",
     "metadata": {},
     "outputs": []
    }
   ],
   "metadata": {}
  }
 ]
}