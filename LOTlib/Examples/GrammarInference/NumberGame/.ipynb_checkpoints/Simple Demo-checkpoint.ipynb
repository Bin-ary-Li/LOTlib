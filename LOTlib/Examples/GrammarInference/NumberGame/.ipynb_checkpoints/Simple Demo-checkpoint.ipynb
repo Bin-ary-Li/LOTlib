{
 "metadata": {
  "name": "",
  "signature": "sha256:f17360a49992b3c3d76035f77208acf37717ea512514b42ffe8505bee796e3f1"
 },
 "nbformat": 3,
 "nbformat_minor": 0,
 "worksheets": [
  {
   "cells": [
    {
     "cell_type": "code",
     "collapsed": false,
     "input": [
      "from SimpleDemo import *\n",
      "# run(grammar=complex_grammar, data=toy_3n, domain=20, alpha=0.99, enum_d=5, grammar_n=1000, cap=100, \n",
      "#     print_stuff=True, plot_type='violin', pickle_data='load')"
     ],
     "language": "python",
     "metadata": {},
     "outputs": [],
     "prompt_number": 1
    },
    {
     "cell_type": "heading",
     "level": 3,
     "metadata": {},
     "source": [
      "Violin Plot (GrammarHypothesis vector-value samples)"
     ]
    },
    {
     "cell_type": "code",
     "collapsed": false,
     "input": [
      "run(pickle_data='load', print_stuff=False, plot_type='violin')"
     ],
     "language": "python",
     "metadata": {},
     "outputs": [],
     "prompt_number": 2
    },
    {
     "cell_type": "heading",
     "level": 3,
     "metadata": {},
     "source": [
      "Line Plot (of same)"
     ]
    },
    {
     "cell_type": "code",
     "collapsed": true,
     "input": [
      "run(pickle_data='load', print_stuff=False, plot_type='values')"
     ],
     "language": "python",
     "metadata": {},
     "outputs": [],
     "prompt_number": 3
    },
    {
     "cell_type": "heading",
     "level": 3,
     "metadata": {},
     "source": [
      "Barplot of  $\\ p(y \\in C \\mid \\mathcal{H})$"
     ]
    },
    {
     "cell_type": "code",
     "collapsed": false,
     "input": [
      "run(pickle_data='load', print_stuff=False, plot_type='barplot')"
     ],
     "language": "python",
     "metadata": {},
     "outputs": [
      {
       "output_type": "stream",
       "stream": "stdout",
       "text": [
        "1\n",
        "2\n",
        "3\n",
        "4\n",
        "5\n",
        "6\n",
        "7\n",
        "8\n",
        "9\n",
        "10\n",
        "11\n",
        "12\n",
        "13\n",
        "14\n",
        "15\n",
        "16\n",
        "17\n",
        "18\n",
        "19\n",
        "20\n"
       ]
      }
     ],
     "prompt_number": 2
    },
    {
     "cell_type": "code",
     "collapsed": false,
     "input": [
      "np.arange(0,1.2,.2)"
     ],
     "language": "python",
     "metadata": {},
     "outputs": [
      {
       "metadata": {},
       "output_type": "pyout",
       "prompt_number": 6,
       "text": [
        "array([ 0. ,  0.2,  0.4,  0.6,  0.8,  1. ])"
       ]
      }
     ],
     "prompt_number": 6
    },
    {
     "cell_type": "code",
     "collapsed": false,
     "input": [
      "%qtconsole"
     ],
     "language": "python",
     "metadata": {},
     "outputs": [],
     "prompt_number": 1
    },
    {
     "cell_type": "code",
     "collapsed": false,
     "input": [
      "import matplotlib.gridspec as gridspec\n",
      "gridspec.GridSpecBase"
     ],
     "language": "python",
     "metadata": {},
     "outputs": []
    }
   ],
   "metadata": {}
  }
 ]
}