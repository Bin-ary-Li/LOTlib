{
 "metadata": {
  "name": "",
  "signature": "sha256:a364ee3463cbdb0d5aade02e4da27326bd30d90a70e4f4bf83c45646840d5cea"
 },
 "nbformat": 3,
 "nbformat_minor": 0,
 "worksheets": [
  {
   "cells": [
    {
     "cell_type": "code",
     "collapsed": false,
     "input": [
      "from LOTlib.Hypotheses.GrammarHypothesis import GrammarHypothesis\n",
      "from LOTlib.Inference.MetropolisHastings import MHSampler\n",
      "from LOTlib.Inference.PriorSample import prior_sample\n",
      "from LOTlib.Examples.NumberGame.NewVersion.Model import *\n",
      "from Model import *\n",
      "from LOTlib.Visualization.SampleCollector import *"
     ],
     "language": "python",
     "metadata": {},
     "outputs": [],
     "prompt_number": 1
    },
    {
     "cell_type": "code",
     "collapsed": false,
     "input": [
      "# Parameters for number game inference\n",
      "alpha = 0.99\n",
      "n = 1000\n",
      "domain = 20\n",
      "\n",
      "# Parameters for GrammarHypothesis inference\n",
      "grammar_n = 10000\n",
      "data = toy_2n\n",
      "\n",
      "# Variables for NumberGameHypothesis inference\n",
      "h0 = make_h0(grammar=simple_test_grammar, domain=domain, alpha=alpha)\n",
      "mh_sampler = MHSampler(h0, data[0].input, n)"
     ],
     "language": "python",
     "metadata": {},
     "outputs": [],
     "prompt_number": 2
    },
    {
     "cell_type": "code",
     "collapsed": false,
     "input": [
      "'''Generate number game hypotheses'''\n",
      "hypotheses = set()\n",
      "for h in lot_iter(mh_sampler):\n",
      "    hypotheses.add(h)\n",
      "\n",
      "print '%'*100\n",
      "print 'NumberGameHypotheses: '\n",
      "for h in hypotheses:\n",
      "    print h, h(), h.domain, h.alpha\n",
      "print '\\n'"
     ],
     "language": "python",
     "metadata": {},
     "outputs": [
      {
       "output_type": "stream",
       "stream": "stdout",
       "text": [
        "%%%%%%%%%%%%%%%%%%%%%%%%%%%%%%%%%%%%%%%%%%%%%%%%%%%%%%%%%%%%%%%%%%%%%%%%%%%%%%%%%%%%%%%%%%%%%%%%%%%%\n",
        "NumberGameHypotheses: \n",
        "lambda : mapset_(lambda y1: times_(y1, 3), range_set_(1, 20, bound=20)) [3, 6, 9, 12, 15, 18] 20 0.99\n",
        "lambda : mapset_(lambda y1: times_(y1, 1), range_set_(1, 20, bound=20)) [1, 2, 3, 4, 5, 6, 7, 8, 9, 10, 11, 12, 13, 14, 15, 16, 17, 18, 19, 20] 20 0.99\n",
        "lambda : mapset_(lambda y1: times_(y1, 2), range_set_(1, 20, bound=20)) [2, 4, 6, 8, 10, 12, 14, 16, 18, 20] 20 0.99\n",
        "lambda : mapset_(lambda y1: times_(y1, 7), range_set_(1, 20, bound=20)) [7, 14] 20 0.99\n",
        "\n",
        "\n"
       ]
      }
     ],
     "prompt_number": 3
    },
    {
     "cell_type": "code",
     "collapsed": false,
     "input": [
      "'''What grammar probabilities will best model our human data?'''\n",
      "grammar_h0 = GrammarHypothesis(simple_test_grammar, hypotheses, proposal_step=.1, proposal_n=1)\n",
      "\n",
      "for r in grammar_h0.rules:\n",
      "    print r"
     ],
     "language": "python",
     "metadata": {},
     "outputs": [
      {
       "output_type": "stream",
       "stream": "stdout",
       "text": [
        "SET -> mapset_['FUNC', 'RANGE'] w/ p=1.0, resample_p=1.0\n",
        "EXPR -> times_['X', '1'] w/ p=1.0, resample_p=1.0\n",
        "EXPR -> times_['X', '2'] w/ p=1.0, resample_p=1.0\n",
        "EXPR -> times_['X', '3'] w/ p=1.0, resample_p=1.0\n",
        "EXPR -> times_['X', '7'] w/ p=1.0, resample_p=1.0\n",
        "START -> ['SET'] w/ p=1.0, resample_p=1.0\n",
        "RANGE -> range_set_['1', '20', 'bound=20'] w/ p=1.0, resample_p=1.0\n",
        "FUNC -> lambda['EXPR'] w/ p=1.0, resample_p=1.0BV:X;None;y\n"
       ]
      }
     ],
     "prompt_number": 4
    },
    {
     "cell_type": "code",
     "collapsed": false,
     "input": [
      "'''print distribution over power rule:  [prior, likelihood, posterior]'''\n",
      "# vals, posteriors = grammar_h0.rule_distribution(data, 'ipowf_', np.arange(0.1, 5., 0.1))\n",
      "# print_dist(vals, posteriors)\n",
      "#visualize_dist(vals, posteriors, 'union_')"
     ],
     "language": "python",
     "metadata": {},
     "outputs": [
      {
       "metadata": {},
       "output_type": "pyout",
       "prompt_number": 5,
       "text": [
        "'print distribution over power rule:  [prior, likelihood, posterior]'"
       ]
      }
     ],
     "prompt_number": 5
    },
    {
     "cell_type": "code",
     "collapsed": false,
     "input": [
      "'''grammar hypothesis inference'''\n",
      "mh_grammar_sampler = MHSampler(grammar_h0, data, grammar_n, trace=False)\n",
      "\n",
      "grammar_hypotheses = []\n",
      "i = 0\n",
      "samplec = VectorSampleCollector(rate=100)\n",
      "for grammar_h in lot_iter(mh_grammar_sampler):\n",
      "    i += 1\n",
      "    samplec.add_sample(grammar_h)\n",
      "    grammar_hypotheses.append(grammar_h)\n",
      "    if i % (mh_grammar_sampler.steps/20) == 0:\n",
      "        print ['%.3f' % v for v in grammar_h.value]\n",
      "        print i, '%'*100\n",
      "        print grammar_h.prior, grammar_h.likelihood, grammar_h.posterior_score\n",
      "        \n"
     ],
     "language": "python",
     "metadata": {},
     "outputs": [
      {
       "output_type": "stream",
       "stream": "stdout",
       "text": [
        "['1.000', '0.043', '1.721', '1.925', '1.163', '1.000', '1.000', '1.000']\n",
        "500 %%%%%%%%%%%%%%%%%%%%%%%%%%%%%%%%%%%%%%%%%%%%%%%%%%%%%%%%%%%%%%%%%%%%%%%%%%%%%%%%%%%%%%%%%%%%%%%%%%%%\n",
        "-10.6436065803 -1.53590062873 -12.179507209\n",
        "['1.000', '0.110', '2.373', '2.166', '0.102', '1.000', '1.000', '1.000']"
       ]
      },
      {
       "output_type": "stream",
       "stream": "stdout",
       "text": [
        "\n",
        "1000 %%%%%%%%%%%%%%%%%%%%%%%%%%%%%%%%%%%%%%%%%%%%%%%%%%%%%%%%%%%%%%%%%%%%%%%%%%%%%%%%%%%%%%%%%%%%%%%%%%%%\n",
        "-11.6046907869 -1.99042132766 -13.5951121146\n",
        "['1.000', '0.039', '2.302', '1.595', '0.377', '1.000', '1.000', '1.000']"
       ]
      },
      {
       "output_type": "stream",
       "stream": "stdout",
       "text": [
        "\n",
        "1500 %%%%%%%%%%%%%%%%%%%%%%%%%%%%%%%%%%%%%%%%%%%%%%%%%%%%%%%%%%%%%%%%%%%%%%%%%%%%%%%%%%%%%%%%%%%%%%%%%%%%\n",
        "-11.2366339505 -0.912182629986 -12.1488165805\n",
        "['1.000', '0.030', '0.913', '0.224', '0.772', '1.000', '1.000', '1.000']"
       ]
      },
      {
       "output_type": "stream",
       "stream": "stdout",
       "text": [
        "\n",
        "2000 %%%%%%%%%%%%%%%%%%%%%%%%%%%%%%%%%%%%%%%%%%%%%%%%%%%%%%%%%%%%%%%%%%%%%%%%%%%%%%%%%%%%%%%%%%%%%%%%%%%%\n",
        "-11.2838687496 -1.57179772103 -12.8556664706\n",
        "['1.000', '0.031', '1.763', '1.446', '1.880', '1.000', '1.000', '1.000']"
       ]
      },
      {
       "output_type": "stream",
       "stream": "stdout",
       "text": [
        "\n",
        "2500 %%%%%%%%%%%%%%%%%%%%%%%%%%%%%%%%%%%%%%%%%%%%%%%%%%%%%%%%%%%%%%%%%%%%%%%%%%%%%%%%%%%%%%%%%%%%%%%%%%%%\n",
        "-11.0347425237 -1.2963044801 -12.3310470038\n",
        "['1.000', '0.014', '1.491', '0.395', '0.779', '1.000', '1.000', '1.000']"
       ]
      },
      {
       "output_type": "stream",
       "stream": "stdout",
       "text": [
        "\n",
        "3000 %%%%%%%%%%%%%%%%%%%%%%%%%%%%%%%%%%%%%%%%%%%%%%%%%%%%%%%%%%%%%%%%%%%%%%%%%%%%%%%%%%%%%%%%%%%%%%%%%%%%\n",
        "-11.7269374644 -0.620574670581 -12.347512135\n",
        "['1.000', '0.065', '1.939', '1.086', '2.032', '1.000', '1.000', '1.000']"
       ]
      },
      {
       "output_type": "stream",
       "stream": "stdout",
       "text": [
        "\n",
        "3500 %%%%%%%%%%%%%%%%%%%%%%%%%%%%%%%%%%%%%%%%%%%%%%%%%%%%%%%%%%%%%%%%%%%%%%%%%%%%%%%%%%%%%%%%%%%%%%%%%%%%\n",
        "-10.3974847966 -1.76944983468 -12.1669346313\n",
        "['1.000', '0.225', '2.674', '1.356', '1.492', '1.000', '1.000', '1.000']"
       ]
      },
      {
       "output_type": "stream",
       "stream": "stdout",
       "text": [
        "\n",
        "4000 %%%%%%%%%%%%%%%%%%%%%%%%%%%%%%%%%%%%%%%%%%%%%%%%%%%%%%%%%%%%%%%%%%%%%%%%%%%%%%%%%%%%%%%%%%%%%%%%%%%%\n",
        "-9.54971000946 -3.34136938371 -12.8910793932\n",
        "['1.000', '0.033', '2.422', '1.949', '2.702', '1.000', '1.000', '1.000']"
       ]
      },
      {
       "output_type": "stream",
       "stream": "stdout",
       "text": [
        "\n",
        "4500 %%%%%%%%%%%%%%%%%%%%%%%%%%%%%%%%%%%%%%%%%%%%%%%%%%%%%%%%%%%%%%%%%%%%%%%%%%%%%%%%%%%%%%%%%%%%%%%%%%%%\n",
        "-11.9688407969 -1.17508632412 -13.143927121\n",
        "['1.000', '0.063', '2.555', '2.036', '3.553', '1.000', '1.000', '1.000']"
       ]
      },
      {
       "output_type": "stream",
       "stream": "stdout",
       "text": [
        "\n",
        "5000 %%%%%%%%%%%%%%%%%%%%%%%%%%%%%%%%%%%%%%%%%%%%%%%%%%%%%%%%%%%%%%%%%%%%%%%%%%%%%%%%%%%%%%%%%%%%%%%%%%%%\n",
        "-12.058167618 -1.65251970466 -13.7106873226\n",
        "['1.000', '0.228', '3.231', '1.637', '3.493', '1.000', '1.000', '1.000']"
       ]
      },
      {
       "output_type": "stream",
       "stream": "stdout",
       "text": [
        "\n",
        "5500 %%%%%%%%%%%%%%%%%%%%%%%%%%%%%%%%%%%%%%%%%%%%%%%%%%%%%%%%%%%%%%%%%%%%%%%%%%%%%%%%%%%%%%%%%%%%%%%%%%%%\n",
        "-11.1504270342 -3.04665625923 -14.1970832934\n",
        "['1.000', '0.082', '3.730', '1.711', '5.380', '1.000', '1.000', '1.000']"
       ]
      },
      {
       "output_type": "stream",
       "stream": "stdout",
       "text": [
        "\n",
        "6000 %%%%%%%%%%%%%%%%%%%%%%%%%%%%%%%%%%%%%%%%%%%%%%%%%%%%%%%%%%%%%%%%%%%%%%%%%%%%%%%%%%%%%%%%%%%%%%%%%%%%\n",
        "-13.8670913674 -1.4619136696 -15.329005037\n",
        "['1.000', '0.047', '3.533', '1.065', '4.040', '1.000', '1.000', '1.000']"
       ]
      },
      {
       "output_type": "stream",
       "stream": "stdout",
       "text": [
        "\n",
        "6500 %%%%%%%%%%%%%%%%%%%%%%%%%%%%%%%%%%%%%%%%%%%%%%%%%%%%%%%%%%%%%%%%%%%%%%%%%%%%%%%%%%%%%%%%%%%%%%%%%%%%\n",
        "-13.0237114024 -0.992724526139 -14.0164359285\n",
        "['1.000', '0.056', '1.070', '1.982', '4.912', '1.000', '1.000', '1.000']"
       ]
      },
      {
       "output_type": "stream",
       "stream": "stdout",
       "text": [
        "\n",
        "7000 %%%%%%%%%%%%%%%%%%%%%%%%%%%%%%%%%%%%%%%%%%%%%%%%%%%%%%%%%%%%%%%%%%%%%%%%%%%%%%%%%%%%%%%%%%%%%%%%%%%%\n",
        "-12.5600772194 -4.04403753082 -16.6041147503\n",
        "['1.000', '0.072', '2.024', '0.241', '3.762', '1.000', '1.000', '1.000']"
       ]
      },
      {
       "output_type": "stream",
       "stream": "stdout",
       "text": [
        "\n",
        "7500 %%%%%%%%%%%%%%%%%%%%%%%%%%%%%%%%%%%%%%%%%%%%%%%%%%%%%%%%%%%%%%%%%%%%%%%%%%%%%%%%%%%%%%%%%%%%%%%%%%%%\n",
        "-12.1217150389 -1.9630679775 -14.0847830164\n",
        "['1.000', '0.022', '3.210', '1.053', '3.920', '1.000', '1.000', '1.000']"
       ]
      },
      {
       "output_type": "stream",
       "stream": "stdout",
       "text": [
        "\n",
        "8000 %%%%%%%%%%%%%%%%%%%%%%%%%%%%%%%%%%%%%%%%%%%%%%%%%%%%%%%%%%%%%%%%%%%%%%%%%%%%%%%%%%%%%%%%%%%%%%%%%%%%\n",
        "-13.4205052062 -0.806135308632 -14.2266405149\n",
        "['1.000', '0.254', '3.511', '0.751', '3.750', '1.000', '1.000', '1.000']"
       ]
      },
      {
       "output_type": "stream",
       "stream": "stdout",
       "text": [
        "\n",
        "8500 %%%%%%%%%%%%%%%%%%%%%%%%%%%%%%%%%%%%%%%%%%%%%%%%%%%%%%%%%%%%%%%%%%%%%%%%%%%%%%%%%%%%%%%%%%%%%%%%%%%%\n",
        "-11.3443473527 -3.00589189091 -14.3502392436\n",
        "['1.000', '0.290', '2.338', '0.808', '1.316', '1.000', '1.000', '1.000']"
       ]
      },
      {
       "output_type": "stream",
       "stream": "stdout",
       "text": [
        "\n",
        "9000 %%%%%%%%%%%%%%%%%%%%%%%%%%%%%%%%%%%%%%%%%%%%%%%%%%%%%%%%%%%%%%%%%%%%%%%%%%%%%%%%%%%%%%%%%%%%%%%%%%%%\n",
        "-9.07988334726 -4.64193577644 -13.7218191237\n",
        "['1.000', '0.057', '2.672', '1.102', '1.499', '1.000', '1.000', '1.000']"
       ]
      },
      {
       "output_type": "stream",
       "stream": "stdout",
       "text": [
        "\n",
        "9500 %%%%%%%%%%%%%%%%%%%%%%%%%%%%%%%%%%%%%%%%%%%%%%%%%%%%%%%%%%%%%%%%%%%%%%%%%%%%%%%%%%%%%%%%%%%%%%%%%%%%\n",
        "-10.7035844192 -1.11706914523 -11.8206535644\n",
        "['1.000', '0.028', '2.590', '1.236', '1.241', '1.000', '1.000', '1.000']"
       ]
      },
      {
       "output_type": "stream",
       "stream": "stdout",
       "text": [
        "\n",
        "10000 %%%%%%%%%%%%%%%%%%%%%%%%%%%%%%%%%%%%%%%%%%%%%%%%%%%%%%%%%%%%%%%%%%%%%%%%%%%%%%%%%%%%%%%%%%%%%%%%%%%%\n",
        "-11.2748207815 -0.738430838215 -12.0132516197\n"
       ]
      }
     ],
     "prompt_number": 5
    },
    {
     "cell_type": "code",
     "collapsed": false,
     "input": [
      "%pylab\n",
      "from matplotlib.widgets import Slider\n",
      "\n",
      "vector_data = zip(*[[s.value[i] for i in s.propose_idxs] for s in samplec.samples])\n",
      "vector_data = [np.array(l) for l in vector_data]\n",
      "c = samplec.sample_count\n",
      "pos = range(1,len(vector_data)+1)\n",
      "\n",
      "# fig = figure()\n",
      "# # ax = fig.add_axes([0.1, 0.1, 3., 3.])\n",
      "# ax = fig.add_axes([0.1, 0.1, 1., 1.])\n",
      "fig, ax = plt.subplots()\n",
      "fig.subplots_adjust(bottom=0.2, left=0.1)\n",
      "\n",
      "ax.set_title('Distribution of values over GrammarRules generated by MH')\n",
      "ax.violinplot(vector_data, pos, points=100, vert=False, widths=0.7,\n",
      "              showmeans=True, showextrema=True, showmedians=True)\n",
      "\n",
      "ax.set_yticklabels(samplec.samples[0].propose_idxs)\n",
      "\n",
      "def update_violinplot(value):\n",
      "    \n",
      "    # TODO: make sure this will update violinplot each time\n",
      "#     ax = fig.add_axes([0.1, 0.1, 1., 1.])\n",
      "#     ax.set_title('Distribution of values over GrammarRules generated by MH')\n",
      "#     ax.remove()\n",
      "    data = [vector[0:value] for vector in vector_data]\n",
      "    ax.violinplot(data, points=100, vert=False, widths=0.7,\n",
      "                  showmeans=True, showextrema=True, showmedians=True)\n",
      "    ax.set_yticklabels(samplec.samples[0].propose_idxs)\n",
      "    fig.canvas.draw_idle()\n",
      "\n",
      "\n",
      "slider_ax = plt.axes([0.1, 0.1, 0.8, 0.02])    \n",
      "# slider_ax = fig.add_axes([0.1, 0.05, 3., .03])\n",
      "slider = Slider(slider_ax, \"after N samples\", valmin=1., valmax=c, valinit=1.)\n",
      "slider.on_changed(update_violinplot)"
     ],
     "language": "python",
     "metadata": {},
     "outputs": [
      {
       "output_type": "stream",
       "stream": "stdout",
       "text": [
        "Using matplotlib backend: Qt4Agg\n",
        "Populating the interactive namespace from numpy and matplotlib\n"
       ]
      },
      {
       "metadata": {},
       "output_type": "pyout",
       "prompt_number": 36,
       "text": [
        "0"
       ]
      }
     ],
     "prompt_number": 36
    },
    {
     "cell_type": "code",
     "collapsed": false,
     "input": [
      "%qtconsole"
     ],
     "language": "python",
     "metadata": {},
     "outputs": [],
     "prompt_number": 20
    }
   ],
   "metadata": {}
  }
 ]
}