{
 "metadata": {
  "name": "",
  "signature": "sha256:779cfbb16c082003707d20e2dee7fcaf375e4b4bbb27da6acae9ea08757feb22"
 },
 "nbformat": 3,
 "nbformat_minor": 0,
 "worksheets": [
  {
   "cells": [
    {
     "cell_type": "code",
     "collapsed": false,
     "input": [
      "%pylab qt\n",
      "from LOTlib.Hypotheses.GrammarHypothesis import GrammarHypothesis\n",
      "from LOTlib.Inference.MetropolisHastings import MHSampler\n",
      "from LOTlib.Inference.PriorSample import prior_sample\n",
      "from LOTlib.Examples.NumberGame.NewVersion.Model import *\n",
      "from Model import *\n",
      "from LOTlib.Visualization.SampleCollector import *\n",
      "from matplotlib.widgets import Slider"
     ],
     "language": "python",
     "metadata": {},
     "outputs": [
      {
       "output_type": "stream",
       "stream": "stdout",
       "text": [
        "Populating the interactive namespace from numpy and matplotlib\n"
       ]
      }
     ],
     "prompt_number": 1
    },
    {
     "cell_type": "code",
     "collapsed": false,
     "input": [
      "# Parameters for number game inference\n",
      "alpha = 0.99\n",
      "n = 1000\n",
      "domain = 20\n",
      "\n",
      "# Parameters for GrammarHypothesis inference\n",
      "grammar_n = 100000\n",
      "data = toy_2n\n",
      "\n",
      "# Variables for NumberGameHypothesis inference\n",
      "h0 = make_h0(grammar=simple_test_grammar, domain=domain, alpha=alpha)\n",
      "mh_sampler = MHSampler(h0, data[0].input, n)"
     ],
     "language": "python",
     "metadata": {},
     "outputs": [],
     "prompt_number": 11
    },
    {
     "cell_type": "code",
     "collapsed": false,
     "input": [
      "'''Generate number game hypotheses'''\n",
      "hypotheses = set()\n",
      "for h in lot_iter(mh_sampler):\n",
      "    hypotheses.add(h)\n",
      "\n",
      "for h in hypotheses:\n",
      "    print h, h(), h.domain, h.alpha"
     ],
     "language": "python",
     "metadata": {},
     "outputs": [
      {
       "output_type": "stream",
       "stream": "stdout",
       "text": [
        "lambda : mapset_(lambda y1: times_(y1, 3), range_set_(1, 20, bound=20)) [3, 6, 9, 12, 15, 18] 20 0.99\n",
        "lambda : mapset_(lambda y1: times_(y1, 1), range_set_(1, 20, bound=20)) [1, 2, 3, 4, 5, 6, 7, 8, 9, 10, 11, 12, 13, 14, 15, 16, 17, 18, 19, 20] 20 0.99\n",
        "lambda : mapset_(lambda y1: times_(y1, 2), range_set_(1, 20, bound=20)) [2, 4, 6, 8, 10, 12, 14, 16, 18, 20] 20 0.99\n",
        "lambda : mapset_(lambda y1: times_(y1, 7), range_set_(1, 20, bound=20)) [7, 14] 20 0.99\n"
       ]
      }
     ],
     "prompt_number": 3
    },
    {
     "cell_type": "code",
     "collapsed": false,
     "input": [
      "'''What grammar probabilities will best model our human data?'''\n",
      "grammar_h0 = GrammarHypothesis(simple_test_grammar, hypotheses, proposal_step=.1, proposal_n=1)\n",
      "\n",
      "for r in grammar_h0.rules:\n",
      "    print r"
     ],
     "language": "python",
     "metadata": {},
     "outputs": [
      {
       "output_type": "stream",
       "stream": "stdout",
       "text": [
        "SET -> mapset_['FUNC', 'RANGE'] w/ p=1.0, resample_p=1.0\n",
        "EXPR -> times_['X', '1'] w/ p=1.0, resample_p=1.0\n",
        "EXPR -> times_['X', '2'] w/ p=1.0, resample_p=1.0\n",
        "EXPR -> times_['X', '3'] w/ p=1.0, resample_p=1.0\n",
        "EXPR -> times_['X', '7'] w/ p=1.0, resample_p=1.0\n",
        "START -> ['SET'] w/ p=1.0, resample_p=1.0\n",
        "RANGE -> range_set_['1', '20', 'bound=20'] w/ p=1.0, resample_p=1.0\n",
        "FUNC -> lambda['EXPR'] w/ p=1.0, resample_p=1.0BV:X;None;y\n"
       ]
      }
     ],
     "prompt_number": 4
    },
    {
     "cell_type": "code",
     "collapsed": false,
     "input": [
      "'''GrammarHypothesis inference'''\n",
      "mh_grammar_sampler = MHSampler(grammar_h0, data, grammar_n, trace=False)\n",
      "\n",
      "grammar_hypotheses = []\n",
      "i = 0\n",
      "samplec = VectorSampleCollector(rate=100)\n",
      "for grammar_h in lot_iter(mh_grammar_sampler):\n",
      "    i += 1\n",
      "    samplec.add_sample(grammar_h)\n",
      "    grammar_hypotheses.append(grammar_h)\n",
      "    if i % (mh_grammar_sampler.steps/20) == 0:\n",
      "        print ['%.3f' % v for v in grammar_h.value]\n",
      "        print i, '='*70\n",
      "        print grammar_h.prior, grammar_h.likelihood, grammar_h.posterior_score\n",
      "        \n"
     ],
     "language": "python",
     "metadata": {},
     "outputs": [
      {
       "output_type": "stream",
       "stream": "stdout",
       "text": [
        "['1.000', '0.089', '1.889', '2.402', '0.528', '1.000', '1.000', '1.000']\n",
        "5000 ======================================================================\n",
        "-10.4513716809 -2.22753167366 -12.6789033545\n",
        "['1.000', '0.103', '3.245', '3.494', '2.012', '1.000', '1.000', '1.000']"
       ]
      },
      {
       "output_type": "stream",
       "stream": "stdout",
       "text": [
        "\n",
        "10000 ======================================================================\n",
        "-11.99782844 -1.73650323442 -13.7343316744\n",
        "['1.000', '0.134', '2.638', '0.508', '1.874', '1.000', '1.000', '1.000']"
       ]
      },
      {
       "output_type": "stream",
       "stream": "stdout",
       "text": [
        "\n",
        "15000 ======================================================================\n",
        "-10.2445023839 -2.12239339782 -12.3668957817\n",
        "['1.000', '0.702', '7.586', '2.967', '0.745', '1.000', '1.000', '1.000']"
       ]
      },
      {
       "output_type": "stream",
       "stream": "stdout",
       "text": [
        "\n",
        "20000 ======================================================================\n",
        "-13.5337644044 -3.43908043623 -16.9728448406\n",
        "['1.000', '0.536', '4.773', '0.239', '2.101', '1.000', '1.000', '1.000']"
       ]
      },
      {
       "output_type": "stream",
       "stream": "stdout",
       "text": [
        "\n",
        "25000 ======================================================================\n",
        "-11.3987401957 -4.11077792023 -15.509518116\n",
        "['1.000', '0.161', '6.612', '1.214', '3.571', '1.000', '1.000', '1.000']"
       ]
      },
      {
       "output_type": "stream",
       "stream": "stdout",
       "text": [
        "\n",
        "30000 ======================================================================\n",
        "-14.0312195169 -1.1287539928 -15.1599735097\n",
        "['1.000', '0.394', '4.991', '1.236', '1.364', '1.000', '1.000', '1.000']"
       ]
      },
      {
       "output_type": "stream",
       "stream": "stdout",
       "text": [
        "\n",
        "35000 ======================================================================\n",
        "-10.7866628554 -2.97620000944 -13.7628628648\n",
        "['1.000', '0.144', '2.527', '2.445', '0.717', '1.000', '1.000', '1.000']"
       ]
      },
      {
       "output_type": "stream",
       "stream": "stdout",
       "text": [
        "\n",
        "40000 ======================================================================\n",
        "-10.2822392535 -2.46353128171 -12.7457705352\n",
        "['1.000', '0.099', '2.161', '0.420', '2.002', '1.000', '1.000', '1.000']"
       ]
      },
      {
       "output_type": "stream",
       "stream": "stdout",
       "text": [
        "\n",
        "45000 ======================================================================\n",
        "-10.3979905862 -2.02516895885 -12.4231595451\n",
        "['1.000', '0.729', '5.269', '1.242', '1.656', '1.000', '1.000', '1.000']"
       ]
      },
      {
       "output_type": "stream",
       "stream": "stdout",
       "text": [
        "\n",
        "50000 ======================================================================\n",
        "-10.8288098831 -5.01848675208 -15.8472966352\n",
        "['1.000', '0.345', '6.821', '2.694', '0.355', '1.000', '1.000', '1.000']"
       ]
      },
      {
       "output_type": "stream",
       "stream": "stdout",
       "text": [
        "\n",
        "55000 ======================================================================\n",
        "-13.4031712771 -1.96454930391 -15.367720581\n",
        "['1.000', '0.547', '6.062', '3.255', '5.162', '1.000', '1.000', '1.000']"
       ]
      },
      {
       "output_type": "stream",
       "stream": "stdout",
       "text": [
        "\n",
        "60000 ======================================================================\n",
        "-15.005425877 -3.6535389323 -18.6589648093\n",
        "['1.000', '0.104', '4.094', '1.142', '0.849', '1.000', '1.000', '1.000']"
       ]
      },
      {
       "output_type": "stream",
       "stream": "stdout",
       "text": [
        "\n",
        "65000 ======================================================================\n",
        "-11.0706855056 -1.08807262822 -12.1587581338\n",
        "['1.000', '0.188', '5.708', '1.191', '0.473', '1.000', '1.000', '1.000']"
       ]
      },
      {
       "output_type": "stream",
       "stream": "stdout",
       "text": [
        "\n",
        "70000 ======================================================================\n",
        "-12.065401575 -1.28148715986 -13.3468887348\n",
        "['1.000', '0.217', '3.539', '0.981', '0.386', '1.000', '1.000', '1.000']"
       ]
      },
      {
       "output_type": "stream",
       "stream": "stdout",
       "text": [
        "\n",
        "75000 ======================================================================\n",
        "-10.3584797725 -2.31877881788 -12.6772585904\n",
        "['1.000', '0.204', '2.694', '0.966', '3.281', '1.000', '1.000', '1.000']"
       ]
      },
      {
       "output_type": "stream",
       "stream": "stdout",
       "text": [
        "\n",
        "80000 ======================================================================\n",
        "-10.5909782 -3.21458068385 -13.8055588839\n",
        "['1.000', '0.278', '10.356', '0.272', '3.162', '1.000', '1.000', '1.000']"
       ]
      },
      {
       "output_type": "stream",
       "stream": "stdout",
       "text": [
        "\n",
        "85000 ======================================================================\n",
        "-17.1630917661 -1.08119125601 -18.2442830221\n",
        "['1.000', '0.546', '10.520', '1.413', '0.745', '1.000', '1.000', '1.000']"
       ]
      },
      {
       "output_type": "stream",
       "stream": "stdout",
       "text": [
        "\n",
        "90000 ======================================================================\n",
        "-15.4244520777 -1.92503549725 -17.349487575\n",
        "['1.000', '0.197', '10.628', '1.849', '3.138', '1.000', '1.000', '1.000']"
       ]
      },
      {
       "output_type": "stream",
       "stream": "stdout",
       "text": [
        "\n",
        "95000 ======================================================================\n",
        "-17.3167648492 -0.832807234747 -18.149572084\n",
        "['1.000', '0.414', '4.060', '1.084', '3.585', '1.000', '1.000', '1.000']"
       ]
      },
      {
       "output_type": "stream",
       "stream": "stdout",
       "text": [
        "\n",
        "100000 ======================================================================\n",
        "-11.2664459216 -3.97324194367 -15.2396878652\n"
       ]
      }
     ],
     "prompt_number": 13
    },
    {
     "cell_type": "code",
     "collapsed": false,
     "input": [
      "# Numpy array of sampled values for each vector element altered in proposals\n",
      "vector_data = zip(*[[s.value[i] for i in s.propose_idxs] for s in samplec.samples])\n",
      "vector_data = [np.array(l) for l in vector_data]\n",
      "\n",
      "# Set up initial violinplot\n",
      "fig, ax = plt.subplots()\n",
      "fig.subplots_adjust(bottom=0.2, left=0.1)\n",
      "ax.set_title('Distribution of values over GrammarRules generated by MH')\n",
      "violin_results = ax.violinplot(vector_data, points=100, vert=False, widths=0.7,\n",
      "                               showmeans=True, showextrema=True, showmedians=True)\n",
      "max_interval = ax.xaxis.get_view_interval()\n",
      "\n",
      "def update_violinplot(value):\n",
      "    \"\"\"Update the violinplot when you move the slider\"\"\"\n",
      "    ax.clear()\n",
      "    data = [vector[0:value] for vector in vector_data]\n",
      "    ax.violinplot(data, points=100, vert=False, widths=0.7,\n",
      "                  showmeans=True, showextrema=True, showmedians=True)\n",
      "    ax.xaxis.set_view_interval(max_interval)\n",
      "    fig.canvas.draw_idle()\n",
      "\n",
      "# Add slider to plot; slider updates violinplot as a function of how many samples have been generated\n",
      "slider_ax = plt.axes([0.1, 0.1, 0.8, 0.02])    \n",
      "slider = Slider(slider_ax, \"after N samples\", valmin=1., valmax=samplec.sample_count, valinit=1.)\n",
      "slider.on_changed(update_violinplot)"
     ],
     "language": "python",
     "metadata": {},
     "outputs": [
      {
       "metadata": {},
       "output_type": "pyout",
       "prompt_number": 25,
       "text": [
        "0"
       ]
      }
     ],
     "prompt_number": 25
    },
    {
     "cell_type": "markdown",
     "metadata": {},
     "source": [
      "scrap\n",
      "-----"
     ]
    },
    {
     "cell_type": "code",
     "collapsed": false,
     "input": [
      "'''Print distribution over power rule:  [prior, likelihood, posterior]'''\n",
      "# vals, posteriors = grammar_h0.rule_distribution(data, 'ipowf_', np.arange(0.1, 5., 0.1))\n",
      "# print_dist(vals, posteriors)\n",
      "#visualize_dist(vals, posteriors, 'union_')"
     ],
     "language": "python",
     "metadata": {},
     "outputs": [
      {
       "metadata": {},
       "output_type": "pyout",
       "prompt_number": 5,
       "text": [
        "'print distribution over power rule:  [prior, likelihood, posterior]'"
       ]
      }
     ],
     "prompt_number": 5
    },
    {
     "cell_type": "code",
     "collapsed": false,
     "input": [
      "%qtconsole"
     ],
     "language": "python",
     "metadata": {},
     "outputs": [],
     "prompt_number": 20
    },
    {
     "cell_type": "code",
     "collapsed": false,
     "input": [
      "from SimpleDemo import *\n",
      "run()"
     ],
     "language": "python",
     "metadata": {},
     "outputs": [
      {
       "output_type": "stream",
       "stream": "stdout",
       "text": [
        "%%%%%%%%%%%%%%%%%%%%%%%%%%%%%%%%%%%%%%%%%%%%%%%%%%%%%%%%%%%%%%%%%%%%%%%%%%%%%%%%%%%%%%%%%%%%%%%%%%%%\n",
        "NumberGameHypotheses: \n",
        "lambda : mapset_(lambda y1: times_(y1, 3), range_set_(1, 20, bound=20)) [3, 6, 9, 12, 15, 18] 20 0.99\n",
        "lambda : mapset_(lambda y1: times_(y1, 1), range_set_(1, 20, bound=20)) [1, 2, 3, 4, 5, 6, 7, 8, 9, 10, 11, 12, 13, 14, 15, 16, 17, 18, 19, 20] 20 0.99\n",
        "lambda : mapset_(lambda y1: times_(y1, 2), range_set_(1, 20, bound=20)) [2, 4, 6, 8, 10, 12, 14, 16, 18, 20] 20 0.99\n",
        "\n",
        "\n",
        "SET -> mapset_['FUNC', 'RANGE'] w/ p=1.0, resample_p=1.0\n",
        "EXPR -> times_['X', '1'] w/ p=1.0, resample_p=1.0\n",
        "EXPR -> times_['X', '2'] w/ p=1.0, resample_p=1.0\n",
        "EXPR -> times_['X', '3'] w/ p=1.0, resample_p=1.0\n",
        "EXPR -> times_['X', '7'] w/ p=1.0, resample_p=1.0\n",
        "START -> ['SET'] w/ p=1.0, resample_p=1.0\n",
        "RANGE -> range_set_['1', '20', 'bound=20'] w/ p=1.0, resample_p=1.0\n",
        "FUNC -> lambda['EXPR'] w/ p=1.0, resample_p=1.0BV:X;None;y\n",
        "['1.000', '0.765', '0.727', '1.063', '1.194', '1.000', '1.000', '1.000']"
       ]
      },
      {
       "output_type": "stream",
       "stream": "stdout",
       "text": [
        "\n",
        "50 ----------------------------------------------------------------------------------------------------\n",
        "-8.09704526213 -245.456312839 -253.553358101\n",
        "['1.000', '0.648', '0.529', '1.505', '0.893', '1.000', '1.000', '1.000']"
       ]
      },
      {
       "output_type": "stream",
       "stream": "stdout",
       "text": [
        "\n",
        "100 ----------------------------------------------------------------------------------------------------\n",
        "-8.35029522643 -221.798059617 -230.148354844\n",
        "['1.000', '0.407', '0.096', '2.058', '1.209', '1.000', '1.000', '1.000']"
       ]
      },
      {
       "output_type": "stream",
       "stream": "stdout",
       "text": [
        "\n",
        "150 ----------------------------------------------------------------------------------------------------\n",
        "-10.1054962956 -174.426438168 -184.531934463\n",
        "['1.000', '0.035', '0.036', '2.639', '1.297', '1.000', '1.000', '1.000']"
       ]
      },
      {
       "output_type": "stream",
       "stream": "stdout",
       "text": [
        "\n",
        "200 ----------------------------------------------------------------------------------------------------\n",
        "-13.4453211683 -97.0322883155 -110.477609484\n",
        "['1.000', '0.025', '0.028', '3.033', '1.314', '1.000', '1.000', '1.000']"
       ]
      },
      {
       "output_type": "stream",
       "stream": "stdout",
       "text": [
        "\n",
        "250 ----------------------------------------------------------------------------------------------------\n",
        "-14.2663404752 -81.3012291296 -95.5675696048\n",
        "['1.000', '0.020', '0.020', '3.306', '1.806', '1.000', '1.000', '1.000']"
       ]
      },
      {
       "output_type": "stream",
       "stream": "stdout",
       "text": [
        "\n",
        "300 ----------------------------------------------------------------------------------------------------\n",
        "-15.2078981348 -65.9091260212 -81.1170241561\n",
        "['1.000', '0.020', '0.008', '3.846', '1.744', '1.000', '1.000', '1.000']"
       ]
      },
      {
       "output_type": "stream",
       "stream": "stdout",
       "text": [
        "\n",
        "350 ----------------------------------------------------------------------------------------------------\n",
        "-16.4277379299 -43.9678772314 -60.3956151614\n",
        "['1.000', '0.001', '0.008', '4.245', '2.048', '1.000', '1.000', '1.000']"
       ]
      },
      {
       "output_type": "stream",
       "stream": "stdout",
       "text": [
        "\n",
        "400 ----------------------------------------------------------------------------------------------------\n",
        "-19.9136927021 -24.7922939116 -44.7059866137\n",
        "['1.000', '0.001', '0.002', '4.417', '2.042', '1.000', '1.000', '1.000']"
       ]
      },
      {
       "output_type": "stream",
       "stream": "stdout",
       "text": [
        "\n",
        "450 ----------------------------------------------------------------------------------------------------\n",
        "-21.2880770232 -8.66623966125 -29.9543166845\n",
        "['1.000', '0.001', '0.002', '4.798', '1.998', '1.000', '1.000', '1.000']"
       ]
      },
      {
       "output_type": "stream",
       "stream": "stdout",
       "text": [
        "\n",
        "500 ----------------------------------------------------------------------------------------------------\n",
        "-21.5642736115 -8.01933967118 -29.5836132826\n",
        "['1.000', '0.001', '0.002', '4.847', '1.162', '1.000', '1.000', '1.000']"
       ]
      },
      {
       "output_type": "stream",
       "stream": "stdout",
       "text": [
        "\n",
        "550 ----------------------------------------------------------------------------------------------------\n",
        "-21.3087708825 -7.94402735255 -29.2527982351\n",
        "['1.000', '0.001', '0.003', '5.355', '0.538', '1.000', '1.000', '1.000']"
       ]
      },
      {
       "output_type": "stream",
       "stream": "stdout",
       "text": [
        "\n",
        "600 ----------------------------------------------------------------------------------------------------\n",
        "-21.5449697783 -9.36707921042 -30.9120489887\n",
        "['1.000', '0.002', '0.003', '5.663', '0.978', '1.000', '1.000', '1.000']"
       ]
      },
      {
       "output_type": "stream",
       "stream": "stdout",
       "text": [
        "\n",
        "650 ----------------------------------------------------------------------------------------------------\n",
        "-20.7466235246 -10.2810878467 -31.0277113712\n",
        "['1.000', '0.003', '0.004', '6.312', '1.434', '1.000', '1.000', '1.000']"
       ]
      },
      {
       "output_type": "stream",
       "stream": "stdout",
       "text": [
        "\n",
        "700 ----------------------------------------------------------------------------------------------------\n",
        "-20.9699857147 -10.6750427221 -31.6450284369\n",
        "['1.000', '0.003', '0.004', '6.170', '1.274', '1.000', '1.000', '1.000']"
       ]
      },
      {
       "output_type": "stream",
       "stream": "stdout",
       "text": [
        "\n",
        "750 ----------------------------------------------------------------------------------------------------\n",
        "-20.9148108094 -10.6117056026 -31.526516412\n",
        "['1.000', '0.000', '0.004', '6.414', '1.325', '1.000', '1.000', '1.000']"
       ]
      },
      {
       "output_type": "stream",
       "stream": "stdout",
       "text": [
        "\n",
        "800 ----------------------------------------------------------------------------------------------------\n",
        "-23.232957122 -8.02193436882 -31.2548914908\n",
        "['1.000', '0.000', '0.004', '6.107', '1.565', '1.000', '1.000', '1.000']"
       ]
      },
      {
       "output_type": "stream",
       "stream": "stdout",
       "text": [
        "\n",
        "850 ----------------------------------------------------------------------------------------------------\n",
        "-23.0487256165 -8.40139421807 -31.4501198346\n",
        "['1.000', '0.000', '0.004', '6.152', '1.726', '1.000', '1.000', '1.000']"
       ]
      },
      {
       "output_type": "stream",
       "stream": "stdout",
       "text": [
        "\n",
        "900 ----------------------------------------------------------------------------------------------------\n",
        "-23.1493738058 -8.34363678564 -31.4930105914\n",
        "['1.000', '0.000', '0.003', '6.517', '1.530', '1.000', '1.000', '1.000']"
       ]
      },
      {
       "output_type": "stream",
       "stream": "stdout",
       "text": [
        "\n",
        "950 ----------------------------------------------------------------------------------------------------\n",
        "-23.5988183732 -6.48055346224 -30.0793718354\n",
        "['1.000', '0.002', '0.003', '6.448', '1.527', '1.000', '1.000', '1.000']"
       ]
      },
      {
       "output_type": "stream",
       "stream": "stdout",
       "text": [
        "\n",
        "1000 ----------------------------------------------------------------------------------------------------\n",
        "-21.7110725926 -8.21305859812 -29.9241311907\n",
        "%%%%%%%%%%%%%%%%%%%%%%%%%%%%%%%%%%%%%%%%%%%%%%%%%%%%%%%%%%%%%%%%%%%%%%%%%%%%%%%%%%%%%%%%%%%%%%%%%%%%"
       ]
      },
      {
       "output_type": "stream",
       "stream": "stdout",
       "text": [
        " \n",
        "TOP GRAMMAR VECTORS:\n",
        "******************************************************************************************\n"
       ]
      },
      {
       "ename": "TypeError",
       "evalue": "float argument required, not list",
       "output_type": "pyerr",
       "traceback": [
        "\u001b[0;31m---------------------------------------------------------------------------\u001b[0m\n\u001b[0;31mTypeError\u001b[0m                                 Traceback (most recent call last)",
        "\u001b[0;32m<ipython-input-1-5e53a34bf205>\u001b[0m in \u001b[0;36m<module>\u001b[0;34m()\u001b[0m\n\u001b[1;32m      1\u001b[0m \u001b[0;32mfrom\u001b[0m \u001b[0mSimpleDemo\u001b[0m \u001b[0;32mimport\u001b[0m \u001b[0;34m*\u001b[0m\u001b[0;34m\u001b[0m\u001b[0m\n\u001b[0;32m----> 2\u001b[0;31m \u001b[0mrun\u001b[0m\u001b[0;34m(\u001b[0m\u001b[0;34m)\u001b[0m\u001b[0;34m\u001b[0m\u001b[0m\n\u001b[0m",
        "\u001b[0;32m/Users/ebigelow35/Desktop/skool/piantado/LOTlib/LOTlib/Examples/GrammarInference/NumberGame/SimpleDemo.py\u001b[0m in \u001b[0;36mrun\u001b[0;34m()\u001b[0m\n\u001b[1;32m     55\u001b[0m     \u001b[0;32mfor\u001b[0m \u001b[0mgh\u001b[0m \u001b[0;32min\u001b[0m \u001b[0msorted_g_hypos\u001b[0m\u001b[0;34m[\u001b[0m\u001b[0;34m-\u001b[0m\u001b[0;36m10\u001b[0m\u001b[0;34m:\u001b[0m\u001b[0;34m]\u001b[0m\u001b[0;34m:\u001b[0m\u001b[0;34m\u001b[0m\u001b[0m\n\u001b[1;32m     56\u001b[0m         \u001b[0;32mprint\u001b[0m \u001b[0;34m'*'\u001b[0m\u001b[0;34m*\u001b[0m\u001b[0;36m90\u001b[0m\u001b[0;34m\u001b[0m\u001b[0m\n\u001b[0;32m---> 57\u001b[0;31m         \u001b[0;32mprint\u001b[0m \u001b[0;34m'Vector: %.3f'\u001b[0m \u001b[0;34m%\u001b[0m \u001b[0mgh\u001b[0m\u001b[0;34m.\u001b[0m\u001b[0mvalue\u001b[0m\u001b[0;34m\u001b[0m\u001b[0m\n\u001b[0m\u001b[1;32m     58\u001b[0m         \u001b[0;32mprint\u001b[0m \u001b[0;34m'Prior: %.3f'\u001b[0m \u001b[0;34m%\u001b[0m \u001b[0mgh\u001b[0m\u001b[0;34m.\u001b[0m\u001b[0mprior\u001b[0m\u001b[0;34m,\u001b[0m \u001b[0;34m'\\tLikelihood: %.3f'\u001b[0m \u001b[0;34m%\u001b[0m \u001b[0mgh\u001b[0m\u001b[0;34m.\u001b[0m\u001b[0mlikelihood\u001b[0m\u001b[0;34m,\u001b[0m\u001b[0;31m \u001b[0m\u001b[0;31m\\\u001b[0m\u001b[0;34m\u001b[0m\u001b[0m\n\u001b[1;32m     59\u001b[0m             \u001b[0;34m'\\tPostScore: %.3f'\u001b[0m \u001b[0;34m%\u001b[0m \u001b[0mgh\u001b[0m\u001b[0;34m.\u001b[0m\u001b[0mposterior_score\u001b[0m\u001b[0;34m\u001b[0m\u001b[0m\n",
        "\u001b[0;31mTypeError\u001b[0m: float argument required, not list"
       ]
      }
     ],
     "prompt_number": 1
    }
   ],
   "metadata": {}
  }
 ]
}